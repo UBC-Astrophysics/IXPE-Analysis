{
 "cells": [
  {
   "cell_type": "markdown",
   "id": "cooked-captain",
   "metadata": {
    "tags": []
   },
   "source": [
    "# Load Packages"
   ]
  },
  {
   "cell_type": "code",
   "execution_count": 1,
   "id": "angry-negotiation",
   "metadata": {},
   "outputs": [],
   "source": [
    "import matplotlib.pyplot as plt\n",
    "import numpy as np\n",
    "from astropy.io import fits\n",
    "from scipy.optimize import curve_fit,minimize\n",
    "from glob import glob\n",
    "from scipy.interpolate import InterpolatedUnivariateSpline\n",
    "import re\n",
    "import os"
   ]
  },
  {
   "cell_type": "code",
   "execution_count": 2,
   "id": "552890a9-906d-4d43-82a9-01d6d4172a15",
   "metadata": {},
   "outputs": [],
   "source": [
    "doorbbary=True\n",
    "dolocalbary=True\n",
    "if doorbbary:\n",
    "    SOURCENAME='herx1' # For GBM PSR data \n",
    "else:\n",
    "    NU=0.807 # guess for PSR frequency\n",
    "    NUDOT=0\n",
    "OBSID='02003801'\n",
    "MODF='FTP/caldb/data/ixpe/gpd/cpf/modfact/ixpe_d%d_20170101_mfact_02.fits'"
   ]
  },
  {
   "cell_type": "markdown",
   "id": "6304b002-24f4-44ad-9d3e-d345527be20f",
   "metadata": {},
   "source": [
    "# Setup  Directories"
   ]
  },
  {
   "cell_type": "code",
   "execution_count": 3,
   "id": "b7614795-2642-400b-9532-c1788d7efe88",
   "metadata": {},
   "outputs": [
    {
     "data": {
      "text/plain": [
       "0"
      ]
     },
     "execution_count": 3,
     "metadata": {},
     "output_type": "execute_result"
    }
   ],
   "source": [
    "os.system('[ -d output ] || mkdir output ; [ -d figures ] || mkdir figures ; [ -d data ] || mkdir data')"
   ]
  },
  {
   "cell_type": "markdown",
   "id": "6129d488-d36d-4801-9e00-7a92a8e546df",
   "metadata": {},
   "source": [
    "# Setup Data and Modulation Files in Data Directory"
   ]
  },
  {
   "cell_type": "code",
   "execution_count": 4,
   "id": "8fe00e0e-886b-4bdf-bb33-fdb96baee8f9",
   "metadata": {},
   "outputs": [],
   "source": [
    "DIRECTORY='FTP/ixpe/data/obs/%s//%s/' % (OBSID[0:2],OBSID)\n",
    "SCIHEADER='/home/idies/workspace/headata'"
   ]
  },
  {
   "cell_type": "markdown",
   "id": "c3dd06a7-c563-463d-8463-e913a69c004f",
   "metadata": {},
   "source": [
    "## Set up Raw Data Files"
   ]
  },
  {
   "cell_type": "code",
   "execution_count": 5,
   "id": "a40b4940-8c0c-45c4-bf09-80ae9b7968d3",
   "metadata": {},
   "outputs": [],
   "source": [
    "rawdatafilelist=sorted(glob('data/ixpe*_det?_evt2_*.fits*'))\n",
    "if len(rawdatafilelist)<3:\n",
    "    print('get data files')\n",
    "    # if you are on sciserver create symbolic links to the data, otherwise download the manifest and then files\n",
    "    if os.path.isdir('%s/%s/event_l2/' % (SCIHEADER,DIRECTORY)):\n",
    "        os.system('cd data ; for ii in %s/%s/event_l2/*.fits.gz ; do ln -s $ii ; done' % (SCIHEADER,DIRECTORY))\n",
    "    else:\n",
    "        os.system('cd data ; wget -nH -nv --cut-dirs=8 https://heasarc.gsfc.nasa.gov/%s/event_l2/' % DIRECTORY)\n",
    "        with open('data/index.html','r') as f:\n",
    "            for line in f:\n",
    "                res=re.search('href=\"ixpe.+fits\\.gz\"',line)\n",
    "                if res is not None:\n",
    "                    os.system('cd data  ; wget -nH -nv --cut-dirs=8 https://heasarc.gsfc.nasa.gov/%s/event_l2/%s' % (DIRECTORY,line[res.start()+6:res.end()-1]))\n",
    "        os.remove('data/index.html')\n",
    "    rawdatafilelist=sorted(glob('data/ixpe*_det?_evt2_*.fits*'))"
   ]
  },
  {
   "cell_type": "markdown",
   "id": "296fe295-de25-4990-afa4-5d428783ceeb",
   "metadata": {},
   "source": [
    "## Perform Spacecraft barycentering"
   ]
  },
  {
   "cell_type": "code",
   "execution_count": 6,
   "id": "73d32a98-f3e6-48eb-a532-526286033d34",
   "metadata": {},
   "outputs": [],
   "source": [
    "if dolocalbary:\n",
    "    orbfilelist=sorted(glob('data/ixpe*orb_*fits*'))\n",
    "    if len(orbfilelist)<1:\n",
    "        print('get orb files')\n",
    "        # if you are on sciserver create symbolic links to the data, otherwise download the manifest and then files\n",
    "        if os.path.isdir('%s/%s/hk/' % (SCIHEADER,DIRECTORY)):\n",
    "            os.system('cd data ; for ii in %s/%s/hk/*orb*.fits.gz ; do ln -s $ii ; done' % (SCIHEADER,DIRECTORY))\n",
    "        else:\n",
    "            os.system('cd data ; wget -nH -nv --cut-dirs=8 https://heasarc.gsfc.nasa.gov/%s/hk/' % DIRECTORY)\n",
    "            with open('data/index.html','r') as f:\n",
    "                for line in f:\n",
    "                    res=re.search('href=\"ixpe.+orb.+fits\\.gz\"',line)\n",
    "                    if res is not None:\n",
    "                        os.system('cd data  ; wget -nH -nv --cut-dirs=8 https://heasarc.gsfc.nasa.gov/%s/hk/%s' % (DIRECTORY,line[res.start()+6:res.end()-1]))\n",
    "            os.remove('data/index.html')\n",
    "    orbfilelist=sorted(glob('data/ixpe*orb_*fits*'))\n",
    "    datafilelist=sorted(glob('data/ixpe*_det?_evt2_*_bary.fits*'))\n",
    "    if len(datafilelist)<3:\n",
    "        print('perform barycentric correction')\n",
    "        for ff in rawdatafilelist:\n",
    "            os.system('HEADASNOQUERY= HEADASPROMPT=/dev/null barycorr %s %s %s' % (ff,ff.replace('.fits.gz','_bary.fits.gz'),','.join(orbfilelist)))\n",
    "    datafilelist=sorted(glob('data/ixpe*_det?_evt2_*_bary.fits*'))\n",
    "else:\n",
    "    datafilelist=rawdatafilelist\n",
    "#/home/idies/workspace/headata/FTP/caldb/data\n",
    "#https://heasarc.gsfc.nasa.gov/FTP/ixpe/data/obs/01//01001899/event_l2/ixpe01001899_det1_evt2_v02.fits.gz\n",
    "#https://heasarc.gsfc.nasa.gov/FTP/ixpe/data/obs/01//01001899/hk/\n",
    "#https://heasarc.gsfc.nasa.gov/FTP/ixpe/data/obs/02//02003801/event_l2/"
   ]
  },
  {
   "cell_type": "markdown",
   "id": "f0ef50f5-e062-451f-90c1-8296f7be7563",
   "metadata": {},
   "source": [
    "## Setup modulation files"
   ]
  },
  {
   "cell_type": "code",
   "execution_count": 7,
   "id": "a3fc821f-0b42-48bc-83d0-698d53a5cd78",
   "metadata": {},
   "outputs": [],
   "source": [
    "modfilelist=sorted(glob('data/ixpe*_mfact*.fits*'))\n",
    "if len(modfilelist)<3:\n",
    "    print('get modf files')\n",
    "    # if you are on sciserver create symbolic links to the data, otherwise download the manifest and then files\n",
    "    if os.path.exists('%s/%s' % (SCIHEADER,MODF.replace('%d','1'))):\n",
    "        os.system('cd data ; for ii in %s/%s ; do ln -s $ii ; done' % (SCIHEADER,MODF.replace('%d','?')))\n",
    "    else:\n",
    "        for i in range(1,4):\n",
    "            os.system((('cd data ; wget -nH -nv --cut-dirs=8 https://heasarc.gsfc.nasa.gov/%s' % MODF)) % i)\n",
    "    modfilelist=sorted(glob('data/ixpe*_mfact*.fits*'))\n"
   ]
  },
  {
   "cell_type": "markdown",
   "id": "a4102a0b-d3ea-419b-8c22-cc977d8d1e7f",
   "metadata": {},
   "source": [
    "# Definition of RVM"
   ]
  },
  {
   "cell_type": "code",
   "execution_count": 8,
   "id": "documented-latin",
   "metadata": {},
   "outputs": [],
   "source": [
    "def angfunk(alpha,beta,phase):\n",
    "    tanhalfC=np.tan(phase*np.pi)\n",
    "    halfamb=np.radians(alpha-beta)/2\n",
    "    halfapb=np.radians(alpha+beta)/2\n",
    "    halfAmB=np.arctan2(np.sin(halfamb),np.sin(halfapb)*tanhalfC)\n",
    "    halfApB=np.arctan2(np.cos(halfamb),np.cos(halfapb)*tanhalfC)\n",
    "    return (halfAmB-halfApB)\n"
   ]
  },
  {
   "cell_type": "markdown",
   "id": "00e17cbb-07ab-4a7f-9f34-1e512fee0890",
   "metadata": {},
   "source": [
    "# Load Data and Modulation Fraction"
   ]
  },
  {
   "cell_type": "code",
   "execution_count": 9,
   "id": "collaborative-thriller",
   "metadata": {},
   "outputs": [
    {
     "name": "stdout",
     "output_type": "stream",
     "text": [
      "0 data/ixpe02003801_det1_evt2_v01_bary.fits.gz\n",
      "1 data/ixpe02003801_det2_evt2_v01_bary.fits.gz\n",
      "2 data/ixpe02003801_det3_evt2_v01_bary.fits.gz\n"
     ]
    }
   ],
   "source": [
    "IXPEOBSSIM_DIR='/home/idies/workspace/Storage/dgonzalez/persistent/ixpesw-ixpeobssim-8253fe2836b8_v23_3_0'\n",
    "nphotondu=np.zeros(4).astype(int)\n",
    "#for i,f in enumerate(sorted(glob('01003299/event_l2/ixpe01003299_det?_evt2_v02_geocenter.fits.gz'))):\n",
    "for i,f in enumerate(datafilelist): \n",
    "    print(i,f)\n",
    "    with fits.open(modfilelist[i]) as hdu:\n",
    "        modlist=hdu[1].data['SPECRESP']\n",
    "    with fits.open(f) as hdu:\n",
    "        # hdu[1].data['PI']=pislope[i]*hdu[1].data['PI']+pioffset[i]\n",
    "        if (i==0):\n",
    "            MJDREFI=hdu[0].header['MJDREFI']\n",
    "            MJDREFF=hdu[0].header['MJDREFF']\n",
    "            LIVETIME=hdu[0].header['LIVETIME']\n",
    "            evtlist=hdu[1].data\n",
    "            moddata=np.transpose(modlist[np.clip(hdu[1].data['PI']-25,0,len(modlist)-1)])\n",
    "            detector=np.full(len(hdu[1].data),i+1)\n",
    "        else:\n",
    "            evtlist=np.append(evtlist,hdu[1].data)\n",
    "            moddata=np.concatenate((moddata,np.transpose(modlist[np.clip(hdu[1].data['PI']-25,0,len(modlist)-1)])))\n",
    "            detector=np.concatenate((detector,np.full(len(hdu[1].data),i+1)))\n"
   ]
  },
  {
   "cell_type": "code",
   "execution_count": 10,
   "id": "transparent-papua",
   "metadata": {},
   "outputs": [
    {
     "name": "stdout",
     "output_type": "stream",
     "text": [
      "304.53488 288.8549\n",
      "304.85223 288.09387\n",
      "304.87573 288.04214\n",
      "304.87708 288.03912\n",
      "304.87717 288.0387\n"
     ]
    }
   ],
   "source": [
    "xc, yc=300, 300\n",
    "for _i in range(5):\n",
    "    rr=np.hypot(evtlist['X']-xc,evtlist['Y']-yc)\n",
    "    ok=(evtlist['PI']>49) & (evtlist['PI']<=200) & (rr<50) \n",
    "    xc,yc=np.mean(evtlist['X'][ok]),np.mean(evtlist['Y'][ok])\n",
    "    print(xc,yc)\n",
    "rr=np.hypot(evtlist['X']-xc,evtlist['Y']-yc)\n",
    "ok=(evtlist['PI']>49) & (evtlist['PI']<=200) & (rr<20) \n",
    "back=(evtlist['PI']>49) & (evtlist['PI']<=200) & (rr>30)  & (rr<50)\n",
    "evtback=evtlist[back]\n",
    "evtlist=evtlist[ok]\n",
    "modback=moddata[back]\n",
    "moddata=moddata[ok]\n",
    "detback=detector[back]\n",
    "detector=detector[ok]\n"
   ]
  },
  {
   "cell_type": "code",
   "execution_count": 11,
   "id": "premium-remedy",
   "metadata": {},
   "outputs": [
    {
     "data": {
      "image/png": "[encoded data removed]",
      "text/plain": [
       "<Figure size 432x288 with 1 Axes>"
      ]
     },
     "metadata": {
      "needs_background": "light"
     },
     "output_type": "display_data"
    },
    {
     "data": {
      "text/plain": [
       "[<matplotlib.lines.Line2D at 0x7f6a15421850>]"
      ]
     },
     "execution_count": 11,
     "metadata": {},
     "output_type": "execute_result"
    },
    {
     "data": {
      "image/png": "[encoded data removed]",
      "text/plain": [
       "<Figure size 432x288 with 1 Axes>"
      ]
     },
     "metadata": {
      "needs_background": "light"
     },
     "output_type": "display_data"
    }
   ],
   "source": [
    "plt.hist2d(evtlist['X'],evtlist['Y'],bins=100)\n",
    "plt.show()\n",
    "plt.plot(evtlist['X'],evtlist['Y'],',')\n",
    "plt.plot(evtback['X'],evtback['Y'],',')"
   ]
  },
  {
   "cell_type": "code",
   "execution_count": 12,
   "id": "2a3eeda4-3f50-446b-bb6d-f1091614f7a0",
   "metadata": {},
   "outputs": [
    {
     "data": {
      "text/plain": [
       "0.015027038783600755"
      ]
     },
     "execution_count": 12,
     "metadata": {},
     "output_type": "execute_result"
    }
   ],
   "source": [
    "len(evtback)/len(evtlist)/4"
   ]
  },
  {
   "cell_type": "code",
   "execution_count": 13,
   "id": "proof-mitchell",
   "metadata": {},
   "outputs": [],
   "source": [
    "pispec=np.histogram(evtlist['PI'],bins=150)[0]\n",
    "np.save('output/pispec',pispec)"
   ]
  },
  {
   "cell_type": "code",
   "execution_count": 14,
   "id": "sixth-saskatchewan",
   "metadata": {},
   "outputs": [],
   "source": [
    "backpispec=np.histogram(evtback['PI'],bins=150)[0]*20**2/(50**2-30**2)\n",
    "np.save('output/backpispec',backpispec)"
   ]
  },
  {
   "cell_type": "code",
   "execution_count": 15,
   "id": "minus-duplicate",
   "metadata": {},
   "outputs": [
    {
     "name": "stdout",
     "output_type": "stream",
     "text": [
      "1 0.014527487407638212 0.13963086134817693 0.14038456229661755\n",
      "2 0.013509174422861992 0.16497249227866365 0.16552468396653428\n",
      "3 0.004564333980390779 0.16889301792035916 0.16895468222849377\n"
     ]
    }
   ],
   "source": [
    "for i in range(1,4):\n",
    "    _q,_u=np.mean((evtlist['Q']/moddata)[detector==i]),np.mean((evtlist['U']/moddata)[detector==i])\n",
    "    print(i,_q,_u,np.hypot(_q,_u))"
   ]
  },
  {
   "cell_type": "markdown",
   "id": "71bd1464-1608-4413-ac29-63eb80b51a62",
   "metadata": {
    "tags": []
   },
   "source": [
    "# Barycentring First Try with GBM Orbital Elements"
   ]
  },
  {
   "cell_type": "code",
   "execution_count": 16,
   "id": "43573827-28d2-4486-a989-17c564f5aa70",
   "metadata": {},
   "outputs": [],
   "source": [
    "\n",
    "if doorbbary:\n",
    "    os.system('[ -f %s.fits.gz ] || curl https://gammaray.nsstc.nasa.gov/gbm/science/pulsars/lightcurves/%s.fits.gz --output %s.fits.gz' % (SOURCENAME,SOURCENAME,SOURCENAME))\n",
    "    with fits.open('%s.fits.gz' % SOURCENAME)  as hdu:\n",
    "        orbitdata=hdu['Orbital Elements'].data\n",
    "        spindata=hdu['PSR_HIST'].data\n",
    "    day=3600*24\n",
    "    TPIOVER2O=orbitdata['BINARYEPOCH']-2400000.5\n",
    "    PORB=orbitdata['PBINARY']*day\n",
    "    PORBDOT=orbitdata['PBDOT']\n",
    "    ECCENTRICITY=orbitdata['ECCENTRICITY']\n",
    "    OMEGA=orbitdata['PERIAPSE']\n",
    "    ASINIOVERC=orbitdata['AXSINI']\n",
    "    NUORB=1/PORB\n",
    "    NUORBDOT=-1/PORB/PORB*PORBDOT\n",
    "    met0=evtlist['TIME'].min()\n",
    "    MJDSTART=MJDREFF+MJDREFI+met0/day\n",
    "    NU=np.interp(MJDSTART,spindata['BARYTIME'],spindata['FREQUENCY'])\n",
    "    NUDOT=np.interp(MJDSTART,spindata['BARYTIME'],spindata['FDOT'])\n",
    "    TREFNU=MJDSTART\n",
    "    torb=((MJDREFF+MJDREFI)+evtlist['TIME']/day-TPIOVER2O)*day\n",
    "    phaseorb=(0.25+torb*(NUORB+torb*NUORBDOT/2))                    \n",
    "    orbtime=ASINIOVERC*((np.sin(2*np.pi*phaseorb)-np.sin(np.pi/2))-\n",
    "                    0.5*ECCENTRICITY*(np.sin(4*np.pi*phaseorb-np.radians(OMEGA))-\n",
    "                                      np.sin(np.pi/2-np.radians(OMEGA))))\n",
    "    deltat=evtlist['TIME']-orbtime-met0\n",
    "    freqtst=NU\n",
    "    if NUDOT==0:\n",
    "        _ii=spindata['BARYTIME']>59000\n",
    "        nufunk=InterpolatedUnivariateSpline(spindata['BARYTIME'][_ii],spindata['FREQUENCY'][_ii],k=2)\n",
    "        nudd=nufunk.derivatives(MJDSTART)\n",
    "        NU=nudd[0]\n",
    "        NUDOT=nudd[1]/day\n",
    "        NUDDOT=nudd[2]/day/day\n",
    "    else:\n",
    "        NUDDOT=0\n",
    "\n",
    "else:\n",
    "    deltat=evtlist['TIME']-evtlist['TIME'].min()\n",
    "phdata=np.mod(deltat*(NU+0*0.5*deltat*(NUDOT*deltat*NUDDOT*0.3333333)),1)"
   ]
  },
  {
   "cell_type": "code",
   "execution_count": 17,
   "id": "ba7dd383-153b-4683-bda1-d8e7f7d21419",
   "metadata": {},
   "outputs": [
    {
     "data": {
      "text/plain": [
       "(59962.736016378476,\n",
       " 0.8079471829349216,\n",
       " 4.016178051982288e-13,\n",
       " 0.8079470061742823,\n",
       " 148272.52476)"
      ]
     },
     "execution_count": 17,
     "metadata": {},
     "output_type": "execute_result"
    }
   ],
   "source": [
    "MJDSTART,NU,NUDOT,freqtst,LIVETIME"
   ]
  },
  {
   "cell_type": "code",
   "execution_count": 18,
   "id": "ec620e0d-48de-4b67-97d4-53b26a24e1b3",
   "metadata": {},
   "outputs": [
    {
     "data": {
      "image/png": "[encoded data removed]",
      "text/plain": [
       "<Figure size 432x288 with 1 Axes>"
      ]
     },
     "metadata": {
      "needs_background": "light"
     },
     "output_type": "display_data"
    }
   ],
   "source": [
    "bindata=plt.hist2d(phdata,deltat,bins=100)"
   ]
  },
  {
   "cell_type": "code",
   "execution_count": 19,
   "id": "b38e70d7-ad72-4596-8589-103eb955ab05",
   "metadata": {},
   "outputs": [],
   "source": [
    "phdata=np.mod(deltat*(NU+1e-6)+0.03,1)"
   ]
  },
  {
   "cell_type": "code",
   "execution_count": 20,
   "id": "4cdee69b-174c-4c8e-b23b-7101a87e409b",
   "metadata": {},
   "outputs": [
    {
     "data": {
      "text/plain": [
       "(0.8079471829349216, 2.638435333967209)"
      ]
     },
     "execution_count": 20,
     "metadata": {},
     "output_type": "execute_result"
    }
   ],
   "source": [
    "NU,deltat.min()"
   ]
  },
  {
   "cell_type": "code",
   "execution_count": 21,
   "id": "5342d515-05cc-434c-bac4-0c02394f0a50",
   "metadata": {},
   "outputs": [
    {
     "name": "stdout",
     "output_type": "stream",
     "text": [
      "0.17224409448818898\n"
     ]
    },
    {
     "data": {
      "image/png": "[encoded data removed]",
      "text/plain": [
       "<Figure size 432x288 with 1 Axes>"
      ]
     },
     "metadata": {
      "needs_background": "light"
     },
     "output_type": "display_data"
    }
   ],
   "source": [
    "toton=plt.hist(phdata,bins=100)\n",
    "print((toton[0].max()-toton[0].min())/(toton[0].max()+toton[0].min()))"
   ]
  },
  {
   "cell_type": "code",
   "execution_count": 22,
   "id": "8b784660-7c37-4003-8557-178587ae4fba",
   "metadata": {},
   "outputs": [
    {
     "data": {
      "text/plain": [
       "70"
      ]
     },
     "execution_count": 22,
     "metadata": {},
     "output_type": "execute_result"
    }
   ],
   "source": [
    "np.argmax(toton[0])"
   ]
  },
  {
   "cell_type": "code",
   "execution_count": 23,
   "id": "715b184c-8160-410a-9667-75edd64dbbf0",
   "metadata": {},
   "outputs": [
    {
     "name": "stderr",
     "output_type": "stream",
     "text": [
      "/home/idies/miniconda3/envs/heasoft/lib/python3.8/site-packages/numpy/lib/npyio.py:713: VisibleDeprecationWarning: Creating an ndarray from ragged nested sequences (which is a list-or-tuple of lists-or-tuples-or ndarrays with different lengths or shapes) is deprecated. If you meant to do this, you must specify 'dtype=object' when creating the ndarray.\n",
      "  val = np.asanyarray(val)\n"
     ]
    }
   ],
   "source": [
    "np.savez('output/toton',toton,dtype=object)"
   ]
  },
  {
   "cell_type": "markdown",
   "id": "interested-passport",
   "metadata": {
    "tags": []
   },
   "source": [
    "# Unbinned Likelihood Analysis"
   ]
  },
  {
   "cell_type": "code",
   "execution_count": 24,
   "id": "resistant-governor",
   "metadata": {},
   "outputs": [],
   "source": [
    "qdata=evtlist['Q']*moddata\n",
    "udata=evtlist['U']*moddata\n",
    "\n",
    "def maxlikephase(param):\n",
    "    for _i in range(len(param)//2):\n",
    "        qloc[_i]=np.cos(2*param[2*_i])*np.tanh(param[2*_i+1])\n",
    "        uloc[_i]=np.sin(2*param[2*_i])*np.tanh(param[2*_i+1])\n",
    "#        qloc[_i]=param[2*_i]\n",
    "#        uloc[_i]=param[2*_i+1]\n",
    "\n",
    "    return(-np.sum(np.log(1+0.5*(qloc[phbin]*qdata+uloc[phbin]*udata))))\n",
    "\n",
    "def maxlikephaseok(param,_phb,_qd,_ud):\n",
    "    for _i in range(len(param)//2):\n",
    "        qloc[_i]=np.cos(2*param[2*_i])*np.tanh(param[2*_i+1])\n",
    "        uloc[_i]=np.sin(2*param[2*_i])*np.tanh(param[2*_i+1])\n",
    "#        qloc[_i]=param[2*_i]\n",
    "#        uloc[_i]=param[2*_i+1]\n",
    "\n",
    "    return(-np.sum(np.log(1+0.5*(qloc[_phb]*_qd+uloc[_phb]*_ud))))\n",
    "\n",
    "\n",
    "def maxlikephasequ(param):\n",
    "    for _i in range(len(param)//2):\n",
    "        qloc[_i]=np.tanh(param[2*_i])\n",
    "        uloc[_i]=np.tanh(param[2*_i+1])\n",
    "#        qloc[_i]=param[2*_i]\n",
    "#        uloc[_i]=param[2*_i+1]\n",
    "\n",
    "    return(-np.sum(np.log(1+0.5*(qloc[phbin]*qdata+uloc[phbin]*udata))))\n",
    "\n",
    "def maxlikefixed(param):\n",
    "    qloc=param[0]\n",
    "    uloc=param[1]\n",
    "    norm=np.hypot(qloc,uloc)\n",
    "    if norm>1:\n",
    "        qloc/=norm\n",
    "        uloc/=norm\n",
    "    \n",
    "    return(-np.sum(np.log(1+0.5*(qloc*qdata+uloc*udata))))\n",
    "\n",
    "def maxlikerotation(param):\n",
    "    ang=angfunk(param[1],param[2],phdata-param[4])+np.radians(param[3])\n",
    "    qloc=np.cos(2*ang)*np.tanh(param[0])\n",
    "    uloc=np.sin(2*ang)*np.tanh(param[0])\n",
    "    if (len(param)>5):\n",
    "        qloc+=np.tanh(param[5])\n",
    "        uloc+=np.tanh(param[6])\n",
    "    _res=-np.sum(np.log(1+0.5*(qloc*qdata+uloc*udata)))\n",
    "    # print(_res,param)\n",
    "    return _res\n",
    "def maxlikerotation_rand(param):\n",
    "    ang=angfunk(param[1],param[2],phdata-param[4])+np.radians(param[3])\n",
    "    qloc=np.cos(2*ang)*np.tanh(param[0])\n",
    "    uloc=np.sin(2*ang)*np.tanh(param[0])\n",
    "    if (len(param)>5):\n",
    "        qloc+=np.tanh(param[5])\n",
    "        uloc+=np.tanh(param[6])\n",
    "    return(-np.sum(np.log(1+0.5*(qloc*qrand+uloc*urand))))\n",
    "def maxlikerotation2(param):\n",
    "    ang=angfunk(param[1],param[2],phdata-param[4])+np.radians(param[3])\n",
    "    qloc=np.cos(2*ang)\n",
    "    uloc=np.sin(2*ang)\n",
    "    polfrac=np.tanh(param[0])\n",
    "    if (len(param)>5):\n",
    "        polfrac*=(1+param[5]*np.cos(2*np.pi*(phdata-param[6])))\n",
    "    qloc*=polfrac\n",
    "    uloc*=polfrac\n",
    "    if (len(param)>7):\n",
    "        qloc+=np.tanh(param[7])\n",
    "        uloc+=np.tanh(param[8])        \n",
    "    return(-np.sum(np.log(1+0.5*(qloc*qdata+uloc*udata))))\n",
    "def maxlikerotation2_ok(param,_phd,_qd,_ud):\n",
    "    ang=angfunk(param[1],param[2],_phd-param[4])+np.radians(param[3])\n",
    "    qloc=np.cos(2*ang)\n",
    "    uloc=np.sin(2*ang)\n",
    "    polfrac=np.tanh(param[0])\n",
    "    if (len(param)>5):\n",
    "        polfrac*=(1+param[5]*np.cos(2*np.pi*(_phd-param[6])))\n",
    "    qloc*=polfrac\n",
    "    uloc*=polfrac\n",
    "    if (len(param)>7):\n",
    "        qloc+=np.tanh(param[7])\n",
    "        uloc+=np.tanh(param[8]) \n",
    "    return(-np.sum(np.log(1+0.5*(qloc*_qd+uloc*_ud))))\n",
    "def maxlikerotation2frac(param):\n",
    "    ang=angfunk(param[1],param[2],phdata-param[4])+np.radians(param[3]+param[4]*tdata)\n",
    "    qloc=np.cos(2*ang)\n",
    "    uloc=np.sin(2*ang)\n",
    "    polfrac=np.tanh(param[0])\n",
    "    if (len(param)>5):\n",
    "        polfrac*=(1+param[5]*np.cos(2*np.pi*(phdata-param[6])))\n",
    "    qloc*=polfrac\n",
    "    uloc*=polfrac\n",
    "    if (len(param)>7):\n",
    "        qloc+=np.tanh(param[7])\n",
    "        uloc+=np.tanh(param[8])        \n",
    "    return(-np.sum(np.log(1+0.5*(qloc*qdata+uloc*udata))))"
   ]
  },
  {
   "cell_type": "code",
   "execution_count": 25,
   "id": "massive-joseph",
   "metadata": {
    "tags": []
   },
   "outputs": [],
   "source": [
    "np.savetxt('output/photondata.txt',[phdata,qdata,udata])"
   ]
  },
  {
   "cell_type": "code",
   "execution_count": 26,
   "id": "temporal-adventure",
   "metadata": {},
   "outputs": [
    {
     "data": {
      "text/plain": [
       " final_simplex: (array([[0.0196236 , 0.17859507],\n",
       "       [0.0196073 , 0.17862603],\n",
       "       [0.01969751, 0.17860712]]), array([-82.86743745, -82.8674365 , -82.86743189]))\n",
       "           fun: -82.8674374539419\n",
       "       message: 'Optimization terminated successfully.'\n",
       "          nfev: 74\n",
       "           nit: 38\n",
       "        status: 0\n",
       "       success: True\n",
       "             x: array([0.0196236 , 0.17859507])"
      ]
     },
     "execution_count": 26,
     "metadata": {},
     "output_type": "execute_result"
    }
   ],
   "source": [
    "ppp_fixed=minimize(maxlikefixed,np.random.normal(size=2)*np.array([0.3,0.3]),method='Nelder-Mead')\n",
    "ppp_fixed"
   ]
  },
  {
   "cell_type": "code",
   "execution_count": 27,
   "id": "bound-colon",
   "metadata": {},
   "outputs": [
    {
     "data": {
      "text/plain": [
       " final_simplex: (array([[   0.18174865,  -87.77130766,  -87.92068696,  -49.7153229 ,\n",
       "           1.26186235],\n",
       "       [  -0.18174863,  -87.77132991,  -87.92070799, -139.71538533,\n",
       "           1.26186235],\n",
       "       [  -0.18174901,  -87.77132951,  -87.92070652, -139.71537924,\n",
       "           1.26186234],\n",
       "       [  -0.18174835,  -87.77133017,  -87.92070884, -139.71534586,\n",
       "           1.26186235],\n",
       "       [  -0.18174901,  -87.77134439,  -87.92072021, -139.71531334,\n",
       "           1.26186235],\n",
       "       [  -0.18174834,  -87.77132063,  -87.92069552, -139.71531621,\n",
       "           1.26186234]]), array([-82.76585998, -82.76585998, -82.76585998, -82.76585998,\n",
       "       -82.76585998, -82.76585998]))\n",
       "           fun: -82.76585998109482\n",
       "       message: 'Optimization terminated successfully.'\n",
       "          nfev: 935\n",
       "           nit: 575\n",
       "        status: 0\n",
       "       success: True\n",
       "             x: array([  0.18174865, -87.77130766, -87.92068696, -49.7153229 ,\n",
       "         1.26186235])"
      ]
     },
     "execution_count": 27,
     "metadata": {},
     "output_type": "execute_result"
    }
   ],
   "source": [
    "ppp_rot=minimize(maxlikerotation2,np.random.normal(size=5)*np.array([np.hypot(ppp_fixed.x[0],ppp_fixed.x[1]),50,50,90,1]),method='Nelder-Mead')\n",
    "if (ppp_rot.x[0]<0):\n",
    "    ppp_rot.x[0]*=-1\n",
    "    ppp_rot.x[3]+=90\n",
    "ppp_rot"
   ]
  },
  {
   "cell_type": "code",
   "execution_count": 28,
   "id": "proud-prior",
   "metadata": {},
   "outputs": [
    {
     "data": {
      "text/plain": [
       " final_simplex: (array([[  0.1921375 , -88.69914327, -89.15465941, -48.51750147,\n",
       "          1.2735705 ,  -0.13804623,   1.82716406],\n",
       "       [  0.19217349, -88.69798583, -89.15451263, -48.53060467,\n",
       "          1.2735675 ,  -0.13838914,   1.82716771],\n",
       "       [  0.19211903, -88.70007247, -89.15680271, -48.52975891,\n",
       "          1.27356525,  -0.1380017 ,   1.82716023],\n",
       "       [  0.19211447, -88.69786883, -89.15516616, -48.51854968,\n",
       "          1.27357149,  -0.13786863,   1.82704111],\n",
       "       [  0.1921364 , -88.70223181, -89.16049869, -48.51852766,\n",
       "          1.27356884,  -0.13765024,   1.82729356],\n",
       "       [  0.19209497, -88.69824221, -89.15482905, -48.51790537,\n",
       "          1.27357224,  -0.13771976,   1.82799619],\n",
       "       [  0.19215051, -88.69923123, -89.15496202, -48.53058527,\n",
       "          1.27357308,  -0.13767119,   1.82687405],\n",
       "       [  0.19218956, -88.69845811, -89.15534231, -48.52224274,\n",
       "          1.27356616,  -0.13761903,   1.82711993]]), array([-92.14412891, -92.14412202, -92.14411165, -92.14410012,\n",
       "       -92.14409483, -92.14408987, -92.14408956, -92.14407811]))\n",
       "           fun: -92.14412890894353\n",
       "       message: 'Maximum number of function evaluations has been exceeded.'\n",
       "          nfev: 1400\n",
       "           nit: 939\n",
       "        status: 1\n",
       "       success: False\n",
       "             x: array([  0.1921375 , -88.69914327, -89.15465941, -48.51750147,\n",
       "         1.2735705 ,  -0.13804623,   1.82716406])"
      ]
     },
     "execution_count": 28,
     "metadata": {},
     "output_type": "execute_result"
    }
   ],
   "source": [
    "ppp_rot2=minimize(maxlikerotation2,np.concatenate((ppp_rot.x,np.random.normal(size=2))),method='Nelder-Mead')\n",
    "ppp_rot2"
   ]
  },
  {
   "cell_type": "code",
   "execution_count": 29,
   "id": "divine-kelly",
   "metadata": {},
   "outputs": [
    {
     "data": {
      "text/plain": [
       " final_simplex: (array([[  0.19097912, -88.73098396, -89.20971245, -48.39043508,\n",
       "          1.27341695],\n",
       "       [  0.19097915, -88.73099645, -89.20972699, -48.39036482,\n",
       "          1.27341693],\n",
       "       [  0.19097873, -88.73098482, -89.20971683, -48.39040745,\n",
       "          1.27341693],\n",
       "       [  0.19097925, -88.73097858, -89.20971255, -48.39041677,\n",
       "          1.27341695],\n",
       "       [  0.19097888, -88.73097884, -89.20970593, -48.39033519,\n",
       "          1.27341695],\n",
       "       [  0.19097856, -88.73099455, -89.20972585, -48.39042014,\n",
       "          1.27341695]]), array([-91.26639358, -91.26639358, -91.26639358, -91.26639358,\n",
       "       -91.26639358, -91.26639358]))\n",
       "           fun: -91.26639358333163\n",
       "       message: 'Optimization terminated successfully.'\n",
       "          nfev: 255\n",
       "           nit: 143\n",
       "        status: 0\n",
       "       success: True\n",
       "             x: array([  0.19097912, -88.73098396, -89.20971245, -48.39043508,\n",
       "         1.27341695])"
      ]
     },
     "execution_count": 29,
     "metadata": {},
     "output_type": "execute_result"
    }
   ],
   "source": [
    "ppp_rot=minimize(maxlikerotation2,ppp_rot2.x[0:-2],method='Nelder-Mead')\n",
    "ppp_rot"
   ]
  },
  {
   "cell_type": "markdown",
   "id": "african-voluntary",
   "metadata": {
    "tags": []
   },
   "source": [
    "# Binned Analysis"
   ]
  },
  {
   "cell_type": "code",
   "execution_count": 30,
   "id": "arctic-memphis",
   "metadata": {},
   "outputs": [],
   "source": [
    "qloc=np.zeros(14)\n",
    "uloc=np.zeros(14)\n",
    "phbin=(phdata//(1/14.0)).astype(int)\n",
    "ppp_phase=minimize(maxlikephase,np.random.uniform(size=28))\n",
    "ppp_phase_err=np.diag(ppp_phase.hess_inv)**0.5  \n",
    "tt=np.histogram(phdata,bins=14)[0]\n",
    "phlist=np.linspace(1./28,27./28,14)\n"
   ]
  },
  {
   "cell_type": "code",
   "execution_count": 31,
   "id": "surface-adelaide",
   "metadata": {},
   "outputs": [],
   "source": [
    "ppp_phasequ=minimize(maxlikephasequ,np.random.uniform(size=28))\n",
    "ppp_phasequ_err=np.diag(ppp_phasequ.hess_inv)**.5"
   ]
  },
  {
   "cell_type": "code",
   "execution_count": 32,
   "id": "ebb9d8fb-a608-485e-a633-18ee195861e1",
   "metadata": {},
   "outputs": [
    {
     "data": {
      "text/plain": [
       "(array([0.03571429, 0.10714286, 0.17857143, 0.25      , 0.32142857,\n",
       "        0.39285714, 0.46428571, 0.53571429, 0.60714286, 0.67857143,\n",
       "        0.75      , 0.82142857, 0.89285714, 0.96428571]),\n",
       " 28,\n",
       " 28,\n",
       " 14)"
      ]
     },
     "execution_count": 32,
     "metadata": {},
     "output_type": "execute_result"
    }
   ],
   "source": [
    "phlist,len(ppp_phasequ.x),len(np.diag(ppp_phasequ.hess_inv)),len(tt-0)"
   ]
  },
  {
   "cell_type": "code",
   "execution_count": 33,
   "id": "distant-announcement",
   "metadata": {},
   "outputs": [
    {
     "name": "stdout",
     "output_type": "stream",
     "text": [
      "#    Phase        Q/I       EQ/I        U/I       EU/I     Counts\n",
      " 0.0357143  0.0584452  0.0542674   0.164942  0.0548039       6870 \n",
      "  0.107143 -0.00329129  0.0539577   0.236904  0.0545582       6664 \n",
      "  0.178571 -0.0152189  0.0548965   0.220499   0.054867       6547 \n",
      "      0.25  0.0497974  0.0552495   0.154625  0.0553154       6623 \n",
      "  0.321429   0.108427   0.054842    0.18083  0.0558774       6720 \n",
      "  0.392857  0.0149347   0.052795   0.138417  0.0541523       6929 \n",
      "  0.464286  0.0150183  0.0523838    0.29097  0.0520991       7065 \n",
      "  0.535714 -0.0160787  0.0516571   0.198704  0.0532115       7381 \n",
      "  0.607143  0.0422707  0.0505697   0.188327  0.0507446       7632 \n",
      "  0.678571  0.0248953  0.0495755   0.221946  0.0493339       8134 \n",
      "      0.75 -0.0714449  0.0493081  0.0242804  0.0496009       8068 \n",
      "  0.821429  0.0223171   0.050311   0.147036  0.0501925       7758 \n",
      "  0.892857   0.093942  0.0514562   0.195002  0.0508298       7546 \n",
      "  0.964286 -0.0338941  0.0524386     0.1597  0.0523726       7214 \n"
     ]
    }
   ],
   "source": [
    "tt=np.histogram(phdata,bins=14)[0]\n",
    "phlist=np.linspace(1./28,27./28,14)\n",
    "with open('output/QU_phase.dat','w') as f:\n",
    "    print('#    Phase        Q/I       EQ/I        U/I       EU/I     Counts')\n",
    "    f.write('#    Phase        Q/I       EQ/I        U/I       EU/I     Counts\\n')\n",
    "\n",
    "    for r in zip(phlist,np.tanh(ppp_phasequ.x[::2]),np.diag(ppp_phasequ.hess_inv)[::2]**0.5/np.cosh(ppp_phasequ.x[::2])**2,\n",
    "                 np.tanh(ppp_phasequ.x[1::2]),np.diag(ppp_phasequ.hess_inv)[1::2]**0.5/np.cosh(ppp_phasequ.x[1::2])**2,tt):\n",
    "        print(('%10g '*6) % r)\n",
    "        f.write((('%10g '*6) % r)+'\\n')"
   ]
  },
  {
   "cell_type": "code",
   "execution_count": 34,
   "id": "suburban-geography",
   "metadata": {},
   "outputs": [
    {
     "name": "stdout",
     "output_type": "stream",
     "text": [
      "#    Phase         PD        EPD         PA        EPA     Counts\n",
      " 0.0357143    0.17499  0.0543248    35.2444    9.21147       6870 \n",
      "  0.107143   0.236927   0.054421     45.398    6.58684       6664 \n",
      "  0.178571   0.221023  0.0540127    46.9742    7.11559       6547 \n",
      "      0.25   0.162446  0.0554789    36.0743    9.40554       6623 \n",
      "  0.321429   0.210845  0.0549273    29.5264    7.48492       6720 \n",
      "  0.392857    0.13922  0.0527319    41.9209    10.7438       6929 \n",
      "  0.464286   0.291357  0.0506781    43.5227    5.35103       7065 \n",
      "  0.535714   0.199353  0.0521798    47.3131    7.41524       7381 \n",
      "  0.607143   0.193013  0.0506973    38.6747    7.70243       7632 \n",
      "  0.678571   0.223338  0.0481473       41.8     6.1408       8134 \n",
      "      0.75   0.075458  0.0452641    80.6149      17.86       8068 \n",
      "  0.821429    0.14872  0.0494646    40.6848    9.36593       7758 \n",
      "  0.892857    0.21645  0.0524568    32.1388    6.72761       7546 \n",
      "  0.964286   0.163258   0.052118    50.9912    9.37454       7214 \n"
     ]
    }
   ],
   "source": [
    "with open('output/pol_phase.dat','w') as f:\n",
    "    print('#    Phase         PD        EPD         PA        EPA     Counts')\n",
    "    f.write('#    Phase         PD        EPD         PA        EPA     Counts\\n')\n",
    "    for r in zip((np.arange(len(ppp_phase.x)//2)+0.5)/(len(ppp_phase.x)//2),np.abs(np.tanh(ppp_phase.x[1::2])),ppp_phase_err[1::2]/np.cosh(ppp_phase.x[1::2])**2,np.mod(np.degrees(np.where(ppp_phase.x[1::2]>0,0,np.pi*0.5)+ppp_phase.x[::2]),180),\n",
    "        np.degrees(ppp_phase_err[::2]),tt):\n",
    "        print('%10g '*6 %r)\n",
    "        f.write(('%10g '*6 %r)+'\\n')\n",
    "        "
   ]
  },
  {
   "cell_type": "code",
   "execution_count": 35,
   "id": "powerful-language",
   "metadata": {},
   "outputs": [
    {
     "data": {
      "text/plain": [
       "Text(0, 0.5, 'U/I')"
      ]
     },
     "execution_count": 35,
     "metadata": {},
     "output_type": "execute_result"
    },
    {
     "data": {
      "image/png": "[encoded data removed]",
      "text/plain": [
       "<Figure size 432x288 with 1 Axes>"
      ]
     },
     "metadata": {
      "needs_background": "light"
     },
     "output_type": "display_data"
    }
   ],
   "source": [
    "#plt.figure(figsize=(6,4))\n",
    "plt.gca().set_aspect('equal')\n",
    "plt.errorbar(np.tanh(ppp_phasequ.x[::2]),np.tanh(ppp_phasequ.x[1::2]),yerr=np.diag(ppp_phasequ.hess_inv)[1::2]**0.5/np.cosh(ppp_phasequ.x[1::2])**2,xerr=np.diag(ppp_phasequ.hess_inv)[::2]**0.5/np.cosh(ppp_phasequ.x[::2])**2,fmt='.')\n",
    "for _xx,_yy,_tt in zip(np.tanh(ppp_phasequ.x[::2]),np.tanh(ppp_phasequ.x[1::2]),np.linspace(0.05,0.95,10)):\n",
    "    plt.text(_xx-3e-2,_yy+1e-2,'%.2f' % _tt)\n",
    "plt.xlabel('Q/I')\n",
    "plt.ylabel('U/I')"
   ]
  },
  {
   "cell_type": "code",
   "execution_count": 36,
   "id": "figured-writing",
   "metadata": {},
   "outputs": [
    {
     "data": {
      "image/png": "[encoded data removed]",
      "text/plain": [
       "<Figure size 432x288 with 1 Axes>"
      ]
     },
     "metadata": {
      "needs_background": "light"
     },
     "output_type": "display_data"
    }
   ],
   "source": [
    "#plt.figure(figsize=(7,4))\n",
    "plt.gca().set_aspect('equal')\n",
    "plt.errorbar(np.tanh(ppp_phasequ.x[::2])*tt,np.tanh(ppp_phasequ.x[1::2])*tt,yerr=tt*np.diag(ppp_phasequ.hess_inv)[1::2]**0.5/np.cosh(ppp_phasequ.x[1::2])**2,xerr=tt*np.diag(ppp_phasequ.hess_inv)[::2]**0.5/np.cosh(ppp_phasequ.x[::2])**2,fmt='.')\n",
    "for _xx,_yy,_tt,_qq in zip(np.tanh(ppp_phasequ.x[::2])*tt,np.tanh(ppp_phasequ.x[1::2])*tt,phlist,tt):\n",
    "    plt.text(_xx-3e+1,_yy+1e+1,'%.2f' % (_tt))\n",
    "param=ppp_rot2.x\n",
    "ang=angfunk(param[1],param[2],phlist-param[4])+np.radians(param[3])\n",
    "polfrac=np.tanh(param[0])\n",
    "if (len(param)>5):\n",
    "    polfrac*=(1+param[5]*np.cos(2*np.pi*(phlist-param[6])))\n",
    "\n",
    "qloc=np.cos(2*ang)*polfrac*60000\n",
    "uloc=np.sin(2*ang)*polfrac*60000\n",
    "#plt.plot(qloc,uloc)  \n",
    "#plt.xlim(-18000,5000)\n",
    "#plt.ylim(0,12000)\n",
    "#plt.ylim(-0.1,0.3)\n",
    "plt.xlabel('Q [Counts]')\n",
    "plt.ylabel('U [Counts]')\n",
    "plt.tight_layout()\n",
    "plt.savefig('figures/QU.pdf')"
   ]
  },
  {
   "cell_type": "markdown",
   "id": "southeast-warrior",
   "metadata": {
    "tags": []
   },
   "source": [
    "# Plots"
   ]
  },
  {
   "cell_type": "code",
   "execution_count": 37,
   "id": "blank-permit",
   "metadata": {},
   "outputs": [],
   "source": [
    "def plottwo(x,y,yerr=None,fmt=None,ax=None,**kwargs):\n",
    "    _x=np.concatenate((x,x+1))\n",
    "    _y=np.concatenate((y,y))\n",
    "    if fmt is None:\n",
    "        fmt='.'\n",
    "    if ax is None:\n",
    "        if yerr is None:\n",
    "            plt.plot(_x,_y,xerr=(_x[1]-_x[0])/2,fmt=fmt,**kwargs)\n",
    "        else:\n",
    "            _yerr=np.concatenate((yerr,yerr))\n",
    "            plt.errorbar(_x,_y,xerr=(_x[1]-_x[0])/2,yerr=_yerr,fmt=fmt,**kwargs)\n",
    "    else:\n",
    "        if yerr is None:\n",
    "            ax.plot(_x,_y,xerr=(_x[1]-_x[0])/2,fmt=fmt,**kwargs)\n",
    "        else:\n",
    "            _yerr=np.concatenate((yerr,yerr))\n",
    "            ax.errorbar(_x,_y,xerr=(_x[1]-_x[0])/2,yerr=_yerr,fmt=fmt,**kwargs)\n",
    "\n"
   ]
  },
  {
   "cell_type": "code",
   "execution_count": 38,
   "id": "black-laugh",
   "metadata": {},
   "outputs": [],
   "source": [
    "def cfunk(p,a,b,c):\n",
    "    return(a*np.cos((p-b)*2*np.pi)+c)\n",
    "\n",
    "cfit=curve_fit(cfunk,0.5*toton[1][:-1]+0.5*toton[1][1:],toton[0],sigma=(toton[0])**0.5)\n",
    "pfit=curve_fit(cfunk,(np.arange(len(ppp_phase.x)//2)+0.5)/10,100*np.abs(np.tanh(ppp_phase.x[1::2])),sigma=100*ppp_phase_err[1::2]/np.cosh(ppp_phase.x[1::2])**2)"
   ]
  },
  {
   "cell_type": "code",
   "execution_count": 39,
   "id": "multiple-value",
   "metadata": {},
   "outputs": [
    {
     "name": "stdout",
     "output_type": "stream",
     "text": [
      "0.17224409448818898\n"
     ]
    },
    {
     "data": {
      "image/png": "[encoded data removed]",
      "text/plain": [
       "<Figure size 432x288 with 1 Axes>"
      ]
     },
     "metadata": {
      "needs_background": "light"
     },
     "output_type": "display_data"
    }
   ],
   "source": [
    "toton=plt.hist(phdata,bins=100)\n",
    "print((toton[0].max()-toton[0].min())/(toton[0].max()+toton[0].min()))"
   ]
  },
  {
   "cell_type": "code",
   "execution_count": 40,
   "id": "imperial-evolution",
   "metadata": {},
   "outputs": [
    {
     "name": "stdout",
     "output_type": "stream",
     "text": [
      "0.17224409448818898 0.09936256856909398\n"
     ]
    },
    {
     "data": {
      "image/png": "[encoded data removed]",
      "text/plain": [
       "<Figure size 432x288 with 1 Axes>"
      ]
     },
     "metadata": {
      "needs_background": "light"
     },
     "output_type": "display_data"
    }
   ],
   "source": [
    "\n",
    "_ph=np.linspace(0,2,201)\n",
    "plottwo(0.5*toton[1][:-1]+0.5*toton[1][1:],toton[0],(toton[0])**0.5,'.')\n",
    "#plt.plot(_ph,cfunk(_ph,*cfit[0]))\n",
    "plt.ylabel('Counts')\n",
    "plt.xlabel('Phase')\n",
    "print((toton[0].max()-toton[0].min())/(toton[0].max()+toton[0].min()),cfit[0][0]/cfit[0][2])\n",
    "plt.savefig('figures/intensity.pdf')"
   ]
  },
  {
   "cell_type": "code",
   "execution_count": 41,
   "id": "indian-induction",
   "metadata": {},
   "outputs": [
    {
     "name": "stdout",
     "output_type": "stream",
     "text": [
      "0.18974280073453897 0.01984829760652058\n"
     ]
    },
    {
     "data": {
      "image/png": "[encoded data removed]",
      "text/plain": [
       "<Figure size 432x288 with 1 Axes>"
      ]
     },
     "metadata": {
      "needs_background": "light"
     },
     "output_type": "display_data"
    }
   ],
   "source": [
    "plottwo((np.arange(len(ppp_phase.x)//2)+0.5)/(len(ppp_phase.x)//2),np.abs(np.tanh(ppp_phase.x[1::2])),ppp_phase_err[1::2]/np.cosh(ppp_phase.x[1::2])**2,'.')\n",
    "#plt.plot(_ph,cfunk(_ph,*pfit[0])/100)\n",
    "#plt.plot(_ph,np.abs(ppp_rot2.x[0]*(1+ppp_rot2.x[5]*np.cos(2*np.pi*(_ph-ppp_rot2.x[6])))))\n",
    "plt.ylabel('Polarization Degree')\n",
    "plt.xlabel('Phase')\n",
    "plt.savefig('figures/polar-deg.pdf')\n",
    "print(np.mean(np.abs(np.tanh(ppp_phase.x[1::2]))),np.sum((ppp_phase_err[1::2]/np.cosh(ppp_phase.x[1::2]))**2)**0.5/10)"
   ]
  },
  {
   "cell_type": "code",
   "execution_count": 42,
   "id": "raised-bulgaria",
   "metadata": {},
   "outputs": [
    {
     "name": "stdout",
     "output_type": "stream",
     "text": [
      "\n",
      "Alpha:                      91.3009\n",
      "Beta:                       -89.1547\n",
      "Mean Polarization Fraction: 0.189808\n",
      "Ampl Polarization Fraction: 0.0262022\n",
      "Peak Polarization Fraction: 0.827164\n",
      "Pole across Line of Sight:  0.77357\n",
      "Peak Flux:                  0.72353\n",
      "\n",
      "\n",
      "Alpha:                      91.269\n",
      "Beta:                       -89.2097\n",
      "Mean Polarization Fraction: 0.188691\n",
      "Pole across Line of Sight:  0.773417\n",
      "Peak Flux:                  0.72353\n",
      "\n"
     ]
    },
    {
     "data": {
      "image/png": "[encoded data removed]",
      "text/plain": [
       "<Figure size 432x288 with 1 Axes>"
      ]
     },
     "metadata": {
      "needs_background": "light"
     },
     "output_type": "display_data"
    }
   ],
   "source": [
    "shift=0\n",
    "\n",
    "\n",
    "plottwo((np.arange(len(ppp_phase.x)//2)+0.5)/(len(ppp_phase.x)//2),np.mod(np.degrees(np.where(ppp_phase.x[1::2]>0,0,np.pi*0.5)+ppp_phase.x[::2])-shift,180)+shift,np.degrees(ppp_phase_err[::2]),c='tab:orange')\n",
    "_ph=np.linspace(0,2,401)\n",
    "print('''\n",
    "Alpha:                      %g\n",
    "Beta:                       %g\n",
    "Mean Polarization Fraction: %g\n",
    "Ampl Polarization Fraction: %g\n",
    "Peak Polarization Fraction: %g\n",
    "Pole across Line of Sight:  %g\n",
    "Peak Flux:                  %g\n",
    "''' % ((ppp_rot2.x[1]%180,ppp_rot2.x[2])+tuple(np.mod(np.array([np.abs(np.tanh(ppp_rot2.x[0])),np.abs(ppp_rot2.x[5]*np.tanh(ppp_rot2.x[0])),\n",
    "                                                            ppp_rot2.x[6],\n",
    "                                                            ppp_rot2.x[4]+(0 if ppp_rot2.x[2]>0 else 0.5),\n",
    "                                                            (cfit[0][1] if cfit[0][0]>0 else cfit[0][1]-0.5)]),1))))\n",
    "print('''\n",
    "Alpha:                      %g\n",
    "Beta:                       %g\n",
    "Mean Polarization Fraction: %g\n",
    "Pole across Line of Sight:  %g\n",
    "Peak Flux:                  %g\n",
    "''' % (ppp_rot.x[1]%180,ppp_rot.x[2],np.abs(np.tanh(ppp_rot.x[0])),np.mod(ppp_rot.x[4]+(0 if ppp_rot.x[2]>0 else 0.5),1),\n",
    "                                                            np.mod(cfit[0][1] if cfit[0][0]>0 else cfit[0][1]-0.5,1)))\n",
    "if ppp_rot.x[0]>0:\n",
    "    plt.plot(_ph,np.degrees(np.mod((angfunk(ppp_rot.x[1],ppp_rot.x[2],_ph-ppp_rot.x[4])+np.radians(ppp_rot.x[3]-shift)),np.pi))+shift,label='Constant PD')\n",
    "else:\n",
    "    plt.plot(_ph,np.degrees(np.mod(np.pi/2+(angfunk(ppp_rot.x[1],ppp_rot.x[2],_ph-ppp_rot.x[4])+np.radians(ppp_rot.x[3]-shift)),np.pi))+shift,label='Constant PD')\n",
    "\n",
    "if ppp_rot2.x[0]>0:\n",
    "    plt.plot(_ph,np.degrees(np.mod((angfunk(ppp_rot2.x[1],ppp_rot2.x[2],_ph-ppp_rot2.x[4])+np.radians(ppp_rot2.x[3]-shift)),np.pi))+shift,label='Variable PD')\n",
    "else:\n",
    "    plt.plot(_ph,np.degrees(np.mod(np.pi/2+(angfunk(ppp_rot2.x[1],ppp_rot2.x[2],_ph-ppp_rot2.x[4])+np.radians(ppp_rot2.x[3]-shift)),np.pi))+shift,label='Variable PD')\n",
    "\n",
    "#plt.plot(_ph,np.degrees(np.mod((angfunk(medvalues1[1],medvalues1[2],_ph-medvalues1[4])+np.radians(medvalues1[3]-shift)),np.pi))+shift,c='tab:blue',label='MCMC1')\n",
    "#plt.plot(_ph,np.degrees(np.mod((angfunk(medvalues2[1],medvalues2[2],_ph-medvalues2[4])+np.radians(medvalues2[3]-shift)),np.pi))+shift,c='tab:orange',label='MCMC2')\n",
    "\n",
    "#plt.plot(_ph,np.degrees(np.mod((angfunk(60.8,16.8,_ph-0.272)+np.radians(45.2-shift)),np.pi))+shift,label='MCMC')\n",
    "    \n",
    "#plt.ylim(25,75)\n",
    "plt.ylabel('Polarization Angle')\n",
    "plt.xlabel('Phase')\n",
    "plt.legend()\n",
    "plt.savefig('figures/polar-angle.pdf')"
   ]
  },
  {
   "cell_type": "code",
   "execution_count": 43,
   "id": "ab12b5a0-f7b8-4b61-9ca4-7a85cae1923d",
   "metadata": {},
   "outputs": [
    {
     "data": {
      "image/png": "[encoded data removed]",
      "text/plain": [
       "<Figure size 432x864 with 3 Axes>"
      ]
     },
     "metadata": {
      "needs_background": "light"
     },
     "output_type": "display_data"
    }
   ],
   "source": [
    "shift=0\n",
    "\n",
    "fig, (ax1, ax2, ax3) = plt.subplots(3, 1,sharex=True,figsize=(6,12))\n",
    "_ph=np.linspace(0,2,201)\n",
    "plottwo(0.5*toton[1][:-1]+0.5*toton[1][1:],toton[0],(toton[0])**0.5,'.',ax1)\n",
    "ax1.set_ylabel('Counts')\n",
    "plottwo((np.arange(len(ppp_phase.x)//2)+0.5)/(len(ppp_phase.x)//2),np.abs(np.tanh(ppp_phase.x[1::2])),ppp_phase_err[1::2]/np.cosh(ppp_phase.x[1::2])**2,'.',ax2)\n",
    "ax2.plot(_ph,np.abs(ppp_rot2.x[0]*(1+ppp_rot2.x[5]*np.cos(2*np.pi*(_ph-ppp_rot2.x[6])))),c='tab:green')\n",
    "ax2.set_ylabel('Polarization Degree')\n",
    "plottwo((np.arange(len(ppp_phase.x)//2)+0.5)/(len(ppp_phase.x)//2),np.mod(np.degrees(np.where(ppp_phase.x[1::2]>0,0,np.pi*0.5)+ppp_phase.x[::2])-shift,180)+shift,np.degrees(ppp_phase_err[::2]),'.',ax3)\n",
    "ax3.plot(_ph,np.degrees(np.mod((angfunk(ppp_rot.x[1],ppp_rot.x[2],_ph-ppp_rot.x[4])+np.radians(ppp_rot.x[3]-shift)),np.pi))+shift)\n",
    "\n",
    "\n",
    "ax3.set_ylabel('Polarization Angle')\n",
    "plt.xlabel('Phase')\n",
    "plt.subplots_adjust(wspace=0, hspace=0)\n",
    "\n",
    "plt.savefig('figures/triple.pdf')"
   ]
  },
  {
   "cell_type": "markdown",
   "id": "unsigned-recommendation",
   "metadata": {},
   "source": [
    "# Energy Dependence"
   ]
  },
  {
   "cell_type": "code",
   "execution_count": 44,
   "id": "indoor-hunger",
   "metadata": {},
   "outputs": [],
   "source": [
    "pibin=np.clip(((evtlist['PI']-50)//25).astype(int),0,4)\n",
    "def maxlikeenergy(param):\n",
    "    return(-np.sum(np.log(1+0.5*(np.tanh(param[2*pibin])*qrot+np.tanh(param[2*pibin+1])*urot))))\n",
    "def maxlikeenergy2(param):\n",
    "    return(-np.sum(np.log(1+0.5*(np.tanh(param[pibin])*qrot))))\n"
   ]
  },
  {
   "cell_type": "code",
   "execution_count": 45,
   "id": "complimentary-inside",
   "metadata": {},
   "outputs": [
    {
     "name": "stdout",
     "output_type": "stream",
     "text": [
      "0.006828779871097176 0.16359460073457482 0.16373706246306258 0.017526215713096645 0.014569882833672118\n"
     ]
    }
   ],
   "source": [
    "angdata=angfunk( ppp_rot.x[1],  ppp_rot.x[2], phdata-ppp_rot.x[4])+np.radians(ppp_rot.x[3])\n",
    "\n",
    "sangdata=np.sin(2*angdata)\n",
    "cangdata=np.cos(2*angdata)\n",
    "urot=evtlist['U']*cangdata-evtlist['Q']*sangdata\n",
    "qrot=evtlist['U']*sangdata+evtlist['Q']*cangdata\n",
    "um,qm=np.mean(urot/moddata),np.mean(qrot/moddata)\n",
    "print(um,qm,np.hypot(um,qm),np.std(qrot/moddata)/len(qrot)**0.5,np.std(qrot)/np.mean(moddata)/len(qrot)**0.5)\n",
    "urot*=moddata\n",
    "qrot*=moddata"
   ]
  },
  {
   "cell_type": "code",
   "execution_count": 46,
   "id": "covered-medication",
   "metadata": {},
   "outputs": [],
   "source": [
    "ppp_spec_deg=minimize(maxlikeenergy2,np.random.uniform(size=5)-0.5)"
   ]
  },
  {
   "cell_type": "code",
   "execution_count": 47,
   "id": "worse-xerox",
   "metadata": {},
   "outputs": [],
   "source": [
    "ppp_spec_qu=minimize(maxlikeenergy,np.random.uniform(size=10)-0.5)"
   ]
  },
  {
   "cell_type": "code",
   "execution_count": 48,
   "id": "champion-narrow",
   "metadata": {},
   "outputs": [
    {
     "data": {
      "text/plain": [
       "Text(0, 0.5, 'U/I')"
      ]
     },
     "execution_count": 48,
     "metadata": {},
     "output_type": "execute_result"
    },
    {
     "data": {
      "image/png": "[encoded data removed]",
      "text/plain": [
       "<Figure size 432x432 with 1 Axes>"
      ]
     },
     "metadata": {
      "needs_background": "light"
     },
     "output_type": "display_data"
    }
   ],
   "source": [
    "plt.figure(figsize=(6,6))\n",
    "plt.errorbar(np.tanh(ppp_spec_qu.x[::2]),np.tanh(ppp_spec_qu.x[1::2]),yerr=np.diag(ppp_spec_qu.hess_inv)[1::2]**0.5/np.cosh(ppp_spec_qu.x[1::2])**2,xerr=np.diag(ppp_spec_qu.hess_inv)[::2]**0.5/np.cosh(ppp_spec_qu.x[::2])**2,fmt='.')\n",
    "for _xx,_yy,_tt in zip(np.tanh(ppp_spec_qu.x[::2]),np.tanh(ppp_spec_qu.x[1::2]),['2.5-3','3-4','4-5','5-6','6-8']):\n",
    "    plt.text(_xx-3e-2,_yy+1e-2,_tt)\n",
    "#plt.xlim(-0.29,0.29)\n",
    "#plt.ylim(-0.29,0.29)\n",
    "plt.xlabel('Q/I')\n",
    "plt.ylabel('U/I')"
   ]
  },
  {
   "cell_type": "code",
   "execution_count": 49,
   "id": "american-korea",
   "metadata": {},
   "outputs": [
    {
     "data": {
      "text/plain": [
       "Text(0, 0.5, 'Q/I')"
      ]
     },
     "execution_count": 49,
     "metadata": {},
     "output_type": "execute_result"
    },
    {
     "data": {
      "image/png": "[encoded data removed]",
      "text/plain": [
       "<Figure size 432x432 with 1 Axes>"
      ]
     },
     "metadata": {
      "needs_background": "light"
     },
     "output_type": "display_data"
    }
   ],
   "source": [
    "plt.figure(figsize=(6,6))\n",
    "_xxx=[2.5,3.5,4.5,5.5,7]\n",
    "plt.errorbar(_xxx,np.tanh(ppp_spec_deg.x),yerr=np.diag(ppp_spec_deg.hess_inv)**0.5/np.cosh(ppp_spec_deg.x)**2,fmt='.')\n",
    "plt.xlabel('Energy [keV]')\n",
    "plt.ylabel('Q/I')"
   ]
  },
  {
   "cell_type": "markdown",
   "id": "adaptive-deputy",
   "metadata": {
    "tags": []
   },
   "source": [
    "# Bin optimization"
   ]
  },
  {
   "cell_type": "code",
   "execution_count": 50,
   "id": "superb-jumping",
   "metadata": {},
   "outputs": [],
   "source": [
    "_ii=np.argsort(evtlist['PI'])\n",
    "pisort=evtlist['PI'][_ii]\n",
    "modsort=moddata[_ii]"
   ]
  },
  {
   "cell_type": "code",
   "execution_count": 51,
   "id": "subtle-sharing",
   "metadata": {},
   "outputs": [],
   "source": [
    "modcum=np.cumsum(modsort)\n",
    "def mdpfunk(imin,imax):\n",
    "    return(4.29/((modcum[imax]-modcum[imin])/(imax-imin))/(imax-imin)**0.5)\n",
    "def mdppi(pimin,pimax):\n",
    "    _imin=np.interp(pimin,pisort,range(len(pisort))).astype(int)\n",
    "    _imax=np.interp(pimax,pisort,range(len(pisort))).astype(int)\n",
    "\n",
    "    return mdpfunk(_imin,_imax)"
   ]
  },
  {
   "cell_type": "code",
   "execution_count": 52,
   "id": "removed-brown",
   "metadata": {},
   "outputs": [],
   "source": [
    "modscum=np.cumsum(modsort**2)"
   ]
  },
  {
   "cell_type": "code",
   "execution_count": 53,
   "id": "wrong-theory",
   "metadata": {},
   "outputs": [
    {
     "data": {
      "text/plain": [
       "array([     0,   7031,  12338,  16731,  20504,  23846,  26866,  29635,\n",
       "        32172,  34546,  36782,  38893,  40901,  42816,  44649,  46410,\n",
       "        48104,  49738,  51318,  52849,  54336,  55782,  57190,  58563,\n",
       "        59904,  61217,  62503,  63764,  65002,  66215,  67406,  68576,\n",
       "        69726,  70858,  71969,  73064,  74143,  75205,  76253,  77285,\n",
       "        78304,  79309,  80299,  81274,  82236,  83184,  84117,  85035,\n",
       "        85940,  86829,  87701,  88559,  89401,  90227,  91036,  91829,\n",
       "        92605,  93362,  94102,  94824,  95528,  96213,  96882,  97535,\n",
       "        98173,  98796,  99405, 100000, 100581, 101150])"
      ]
     },
     "execution_count": 53,
     "metadata": {},
     "output_type": "execute_result"
    }
   ],
   "source": [
    "plist=np.interp(np.linspace(0,1,70),modscum/modscum[-1],np.arange(len(modcum))).astype(int)\n",
    "plist"
   ]
  },
  {
   "cell_type": "code",
   "execution_count": 54,
   "id": "allied-gibraltar",
   "metadata": {},
   "outputs": [],
   "source": [
    "for ii in range(len(plist)-1):\n",
    "    _imin=plist[ii]\n",
    "    _imax=plist[ii+1]\n",
    "    _pmin,_pmax=pisort[_imin],pisort[_imax]\n",
    "    # print(ii,_pmin,_pmax,_pmin/25,_pmax/25,mdpfunk(plist[ii],plist[ii+1]))"
   ]
  },
  {
   "cell_type": "code",
   "execution_count": 55,
   "id": "anticipated-surge",
   "metadata": {},
   "outputs": [],
   "source": [
    "pilist=np.concatenate((pisort[plist[0:65:5]],pisort[plist[65:]]))\n",
    "elist=pilist/25"
   ]
  },
  {
   "cell_type": "code",
   "execution_count": 56,
   "id": "packed-novelty",
   "metadata": {},
   "outputs": [
    {
     "data": {
      "text/plain": [
       "(0, 17)"
      ]
     },
     "execution_count": 56,
     "metadata": {},
     "output_type": "execute_result"
    }
   ],
   "source": [
    "pibin=np.digitize(evtlist['PI'],pilist)-1\n",
    "pibin.min(),pibin.max()"
   ]
  },
  {
   "cell_type": "code",
   "execution_count": 57,
   "id": "revised-tension",
   "metadata": {},
   "outputs": [],
   "source": [
    "ppp_spec_deg=minimize(maxlikeenergy2,np.random.uniform(size=pibin.max()+1)-0.5)"
   ]
  },
  {
   "cell_type": "code",
   "execution_count": 58,
   "id": "afraid-danger",
   "metadata": {},
   "outputs": [],
   "source": [
    "ppp_spec_qu=minimize(maxlikeenergy,np.random.uniform(size=2*pibin.max()+2)-0.5)"
   ]
  },
  {
   "cell_type": "code",
   "execution_count": 59,
   "id": "appreciated-belly",
   "metadata": {},
   "outputs": [
    {
     "data": {
      "image/png": "[encoded data removed]",
      "text/plain": [
       "<Figure size 504x432 with 1 Axes>"
      ]
     },
     "metadata": {
      "needs_background": "light"
     },
     "output_type": "display_data"
    }
   ],
   "source": [
    "plt.figure(figsize=(7,6))\n",
    "plt.errorbar(np.tanh(ppp_spec_qu.x[::2]),np.tanh(ppp_spec_qu.x[1::2]),yerr=np.diag(ppp_spec_qu.hess_inv)[1::2]**0.5/np.cosh(ppp_spec_qu.x[1::2])**2,xerr=np.diag(ppp_spec_qu.hess_inv)[::2]**0.5/np.cosh(ppp_spec_qu.x[::2])**2,fmt='.')\n",
    "for _xx,_yy,_e0,_e1 in zip(np.tanh(ppp_spec_qu.x[::2]),np.tanh(ppp_spec_qu.x[1::2]),elist[:-1],elist[1:]):\n",
    "    plt.text(_xx-3e-2,_yy+1e-2,'%.1f-%.1f' % (_e0,_e1))\n",
    "#plt.xlim(-0.4,0.3)\n",
    "#plt.ylim(-0.3,0.3)\n",
    "plt.xlabel('Q/I')\n",
    "plt.ylabel('U/I')\n",
    "plt.savefig('figures/QU-energy_v1.pdf')"
   ]
  },
  {
   "cell_type": "code",
   "execution_count": 60,
   "id": "copyrighted-scenario",
   "metadata": {},
   "outputs": [
    {
     "data": {
      "image/png": "[encoded data removed]",
      "text/plain": [
       "<Figure size 432x432 with 1 Axes>"
      ]
     },
     "metadata": {
      "needs_background": "light"
     },
     "output_type": "display_data"
    }
   ],
   "source": [
    "plt.figure(figsize=(6,6))\n",
    "\n",
    "plt.errorbar(0.5*(elist[:-1]+elist[1:]),np.tanh(ppp_spec_deg.x)[:-1],\n",
    "             yerr=(np.diag(ppp_spec_deg.hess_inv)**0.5/np.cosh(ppp_spec_deg.x)**2)[:-1],\n",
    "             xerr=0.5*(-elist[:-1]+elist[1:]),fmt='.')\n",
    "plt.xlim(2,8)\n",
    "\n",
    "plt.xlabel('Energy [keV]')\n",
    "plt.ylabel('Q/I')\n",
    "plt.savefig('figures/polar-energy.pdf')\n",
    "np.save('output/qoveri',[0.5*(elist[:-1]+elist[1:]),np.tanh(ppp_spec_deg.x)[:-1],\n",
    "             (np.diag(ppp_spec_deg.hess_inv)**0.5/np.cosh(ppp_spec_deg.x)**2)[:-1],\n",
    "             0.5*(-elist[:-1]+elist[1:])])"
   ]
  },
  {
   "cell_type": "code",
   "execution_count": 61,
   "id": "prospective-funeral",
   "metadata": {},
   "outputs": [
    {
     "name": "stdout",
     "output_type": "stream",
     "text": [
      "#     Emid        Q/I       EQ/I   DeltaE/2\n",
      "       2.2  0.0536598  0.0526968        0.2 \n",
      "      2.52   0.250553  0.0530875       0.12 \n",
      "      2.74   0.171139  0.0548331        0.1 \n",
      "      2.96   0.104285  0.0487023       0.12 \n",
      "      3.18   0.188727  0.0528151        0.1 \n",
      "       3.4   0.217139  0.0490308       0.12 \n",
      "      3.64   0.162405  0.0525243       0.12 \n",
      "       3.9   0.200603  0.0515501       0.14 \n",
      "       4.2   0.212303  0.0514456       0.16 \n",
      "      4.56   0.285082  0.0504359        0.2 \n",
      "      5.02   0.198134  0.0490022       0.26 \n",
      "      5.58  0.0979626  0.0523942        0.3 \n",
      "      6.26    0.25617   0.050515       0.38 \n",
      "      6.74   0.176449   0.115331        0.1 \n",
      "      6.96   0.395736   0.113108       0.12 \n",
      "      7.24   0.271829   0.108991       0.16 \n",
      "       7.7   0.178328   0.117793        0.3 \n"
     ]
    }
   ],
   "source": [
    "with open('output/poldeg_energy.dat','w') as f:\n",
    "    print('#     Emid        Q/I       EQ/I   DeltaE/2')\n",
    "    f.write('#     Emid        Q/I       EQ/I   DeltaE/2\\n')\n",
    "\n",
    "    for r in zip(0.5*(elist[:-1]+elist[1:]),np.tanh(ppp_spec_deg.x)[:-1],\n",
    "                 (np.diag(ppp_spec_deg.hess_inv)**0.5/np.cosh(ppp_spec_deg.x)**2)[:-1],\n",
    "                 0.5*(-elist[:-1]+elist[1:])):\n",
    "        print(('%10g '*4) % r)\n",
    "        f.write((('%10g '*4) % r)+'\\n')"
   ]
  },
  {
   "cell_type": "code",
   "execution_count": 62,
   "id": "included-transportation",
   "metadata": {},
   "outputs": [
    {
     "name": "stdout",
     "output_type": "stream",
     "text": [
      "#    Emid         Q/I       EQ/I        U/I       EU/I   DeltaE/2\n",
      "       2.2  0.0533853  0.0526596  0.0934373  0.0530737        0.2 \n",
      "      2.52   0.250541  0.0530271  -0.053736  0.0531861       0.12 \n",
      "      2.74   0.171203  0.0542541 0.00524768  0.0541075        0.1 \n",
      "      2.96   0.104276  0.0487424 0.00102351  0.0492967       0.12 \n",
      "      3.18   0.188726  0.0531147 -0.00019969  0.0534038        0.1 \n",
      "       3.4   0.217151  0.0489486 -0.0314987  0.0500351       0.12 \n",
      "      3.64   0.162816  0.0519729  -0.157472  0.0535735       0.12 \n",
      "       3.9   0.200651    0.05037  0.0159773  0.0514314       0.14 \n",
      "       4.2   0.212469  0.0511689  0.0401732  0.0517592       0.16 \n",
      "      4.56   0.285091  0.0499088  -0.021241  0.0509978        0.2 \n",
      "      5.02   0.198281  0.0500539  0.0965187  0.0489047       0.26 \n",
      "      5.58  0.0976074  0.0530722  0.0571634  0.0517197        0.3 \n",
      "      6.26   0.255811  0.0504826 -0.0345286  0.0513004       0.38 \n",
      "      6.74   0.177918   0.121373  0.0237136   0.113837        0.1 \n",
      "      6.96   0.395199   0.111011  0.0466823   0.113406       0.12 \n",
      "      7.24   0.269214   0.119643  -0.117454   0.114862       0.16 \n",
      "       7.7    0.17535   0.116064 -0.0723615   0.117011        0.3 \n"
     ]
    }
   ],
   "source": [
    "with open('output/QU_energy.dat','w') as f:\n",
    "    print('#    Emid         Q/I       EQ/I        U/I       EU/I   DeltaE/2')\n",
    "    f.write('#    Emid         Q/I       EQ/I        U/I       EU/I   DeltaE/2\\n')\n",
    "\n",
    "    for r in zip(0.5*(elist[:-1]+elist[1:]),np.tanh(ppp_spec_qu.x[::2]),np.diag(ppp_spec_qu.hess_inv)[::2]**0.5/np.cosh(ppp_spec_qu.x[::2])**2,\n",
    "                 np.tanh(ppp_spec_qu.x[1::2]),np.diag(ppp_spec_qu.hess_inv)[1::2]**0.5/np.cosh(ppp_spec_qu.x[1::2])**2,\n",
    "                0.5*(-elist[:-1]+elist[1:])):\n",
    "        print(('%10g '*6) % r)\n",
    "        f.write((('%10g '*6) % r)+'\\n')"
   ]
  },
  {
   "cell_type": "code",
   "execution_count": 63,
   "id": "operating-harassment",
   "metadata": {},
   "outputs": [
    {
     "data": {
      "image/png": "[encoded data removed]",
      "text/plain": [
       "<Figure size 432x288 with 1 Axes>"
      ]
     },
     "metadata": {
      "needs_background": "light"
     },
     "output_type": "display_data"
    }
   ],
   "source": [
    "plt.errorbar(0.5*(elist[:-1]+elist[1:]),np.tanh(ppp_spec_qu.x)[:-2:2],\n",
    "             yerr=(np.diag(ppp_spec_qu.hess_inv)**0.5/np.cosh(ppp_spec_qu.x)**2)[:-2:2],\n",
    "             xerr=0.5*(-elist[:-1]+elist[1:]),fmt='.',label=r'$Q/I$')\n",
    "plt.errorbar(0.5*(elist[:-1]+elist[1:]),np.tanh(ppp_spec_qu.x)[1:-1:2],\n",
    "             yerr=(np.diag(ppp_spec_qu.hess_inv)**0.5/np.cosh(ppp_spec_qu.x)**2)[1:-1:2],\n",
    "             xerr=0.5*(-elist[:-1]+elist[1:]),fmt='.',label=r'$U/I$')\n",
    "plt.legend()\n",
    "plt.xlabel('Energy [keV]')\n",
    "plt.ylabel(r'$Q/I, U/I$')\n",
    "plt.savefig('figures/QU-energy_v2.pdf')"
   ]
  },
  {
   "cell_type": "code",
   "execution_count": 64,
   "id": "qualified-snapshot",
   "metadata": {},
   "outputs": [
    {
     "data": {
      "image/png": "[encoded data removed]",
      "text/plain": [
       "<Figure size 432x288 with 1 Axes>"
      ]
     },
     "metadata": {
      "needs_background": "light"
     },
     "output_type": "display_data"
    }
   ],
   "source": [
    "oklow=evtlist['PI']<=5.5*25\n",
    "totonl=plt.hist(phdata[oklow],bins=100)\n",
    "totonh=plt.hist(phdata[~oklow],bins=10)"
   ]
  },
  {
   "cell_type": "code",
   "execution_count": 65,
   "id": "static-australian",
   "metadata": {},
   "outputs": [
    {
     "data": {
      "text/plain": [
       "Text(0.5, 0, 'Phase')"
      ]
     },
     "execution_count": 65,
     "metadata": {},
     "output_type": "execute_result"
    },
    {
     "data": {
      "image/png": "[encoded data removed]",
      "text/plain": [
       "<Figure size 432x288 with 1 Axes>"
      ]
     },
     "metadata": {
      "needs_background": "light"
     },
     "output_type": "display_data"
    }
   ],
   "source": [
    "_ph=np.linspace(0,2,201)\n",
    "plottwo(0.5*totonl[1][:-1]+0.5*totonl[1][1:],totonl[0],(totonl[0])**0.5,'.')\n",
    "_ph=np.linspace(0,2,21)\n",
    "plottwo(0.5*totonh[1][:-1]+0.5*totonh[1][1:],8*totonh[0],8*(totonh[0])**0.5,'.')\n",
    "\n",
    "#plt.plot(_ph,cfunk(_ph,*cfit[0]))\n",
    "plt.ylabel('Counts')\n",
    "plt.xlabel('Phase')"
   ]
  },
  {
   "cell_type": "code",
   "execution_count": 66,
   "id": "relevant-gazette",
   "metadata": {},
   "outputs": [],
   "source": [
    "ppp_rot_low=minimize(maxlikerotation2_ok,ppp_rot2.x,method='Nelder-Mead',args=(phdata[oklow],qdata[oklow],udata[oklow]))\n",
    "ppp_rot_high=minimize(maxlikerotation2_ok,ppp_rot2.x,method='Nelder-Mead',args=(phdata[~oklow],qdata[~oklow],udata[~oklow]))"
   ]
  },
  {
   "cell_type": "code",
   "execution_count": 67,
   "id": "sixth-month",
   "metadata": {},
   "outputs": [
    {
     "name": "stderr",
     "output_type": "stream",
     "text": [
      "/home/idies/miniconda3/envs/heasoft/lib/python3.8/site-packages/numpy/lib/npyio.py:518: VisibleDeprecationWarning: Creating an ndarray from ragged nested sequences (which is a list-or-tuple of lists-or-tuples-or ndarrays with different lengths or shapes) is deprecated. If you meant to do this, you must specify 'dtype=object' when creating the ndarray.\n",
      "  arr = np.asanyarray(arr)\n"
     ]
    }
   ],
   "source": [
    "np.save(\"output/totonh.npy\",totonh)\n",
    "np.save(\"output/totonl.npy\",totonl)\n",
    "np.save('output/ppp_rot',(ppp_rot2,ppp_rot_low,ppp_rot_high))"
   ]
  },
  {
   "cell_type": "code",
   "execution_count": 68,
   "id": "boxed-spain",
   "metadata": {},
   "outputs": [
    {
     "name": "stdout",
     "output_type": "stream",
     "text": [
      "0.18974280073453897 0.01984829760652058\n"
     ]
    },
    {
     "data": {
      "image/png": "[encoded data removed]",
      "text/plain": [
       "<Figure size 432x288 with 1 Axes>"
      ]
     },
     "metadata": {
      "needs_background": "light"
     },
     "output_type": "display_data"
    }
   ],
   "source": [
    "_ph=np.linspace(0,2,201)\n",
    "plottwo((np.arange(len(ppp_phase.x)//2)+0.5)/(len(ppp_phase.x)//2),np.abs(np.tanh(ppp_phase.x[1::2])),ppp_phase_err[1::2]/np.cosh(ppp_phase.x[1::2])**2,'.')\n",
    "#plt.plot(_ph,cfunk(_ph,*pfit[0])/100)\n",
    "plt.plot(_ph,np.abs(ppp_rot2.x[0]*(1+ppp_rot2.x[5]*np.cos(2*np.pi*(_ph-ppp_rot2.x[6])))),label='2-8 keV')\n",
    "plt.plot(_ph,np.abs(ppp_rot_low.x[0]*(1+ppp_rot_low.x[5]*np.cos(2*np.pi*(_ph-ppp_rot_low.x[6])))),label='2-5.5 keV')\n",
    "plt.plot(_ph,np.abs(ppp_rot_high.x[0]*(1+ppp_rot_high.x[5]*np.cos(2*np.pi*(_ph-ppp_rot_high.x[6])))),label='5.5-8 keV')\n",
    "plt.ylabel('Polarization Degree')\n",
    "plt.xlabel('Phase')\n",
    "#plt.ylim(0.1,0.6)\n",
    "plt.legend()\n",
    "plt.savefig('figures/polar-deg-energy.pdf')\n",
    "print(np.mean(np.abs(np.tanh(ppp_phase.x[1::2]))),np.sum((ppp_phase_err[1::2]/np.cosh(ppp_phase.x[1::2]))**2)**0.5/10)"
   ]
  },
  {
   "cell_type": "code",
   "execution_count": 69,
   "id": "alleged-gravity",
   "metadata": {},
   "outputs": [
    {
     "name": "stdout",
     "output_type": "stream",
     "text": [
      "\n",
      "Alpha:                      91.269\n",
      "Beta:                       -89.2097\n",
      "Mean Polarization Fraction: 0.188691\n",
      "Pole across Line of Sight:  0.773417\n",
      "Peak Flux:                  0.72353\n",
      "\n"
     ]
    },
    {
     "data": {
      "image/png": "[encoded data removed]",
      "text/plain": [
       "<Figure size 432x288 with 1 Axes>"
      ]
     },
     "metadata": {
      "needs_background": "light"
     },
     "output_type": "display_data"
    }
   ],
   "source": [
    "shift=0\n",
    "plottwo((np.arange(len(ppp_phase.x)//2)+0.5)/(len(ppp_phase.x)//2),np.mod(np.degrees(np.where(ppp_phase.x[1::2]>0,0,np.pi*0.5)+ppp_phase.x[::2])-shift,180)+shift,np.degrees(ppp_phase_err[::2]),'.')\n",
    "_ph=np.linspace(0,2,401)\n",
    "print('''\n",
    "Alpha:                      %g\n",
    "Beta:                       %g\n",
    "Mean Polarization Fraction: %g\n",
    "Pole across Line of Sight:  %g\n",
    "Peak Flux:                  %g\n",
    "''' % (ppp_rot.x[1]%180,ppp_rot.x[2],np.abs(np.tanh(ppp_rot.x[0])),np.mod(ppp_rot.x[4]+(0 if ppp_rot.x[2]>0 else 0.5),1),\n",
    "                                                            np.mod(cfit[0][1] if cfit[0][0]>0 else cfit[0][1]-0.5,1)))\n",
    "\n",
    "if ppp_rot.x[0]>0:\n",
    "    plt.plot(_ph,np.degrees(np.mod((angfunk(ppp_rot.x[1],ppp_rot.x[2],_ph-ppp_rot.x[4])+np.radians(ppp_rot.x[3]-shift)),np.pi))+shift,label='2-8 keV')\n",
    "    plt.plot(_ph,np.degrees(np.mod((angfunk(ppp_rot_low.x[1],ppp_rot_low.x[2],_ph-ppp_rot_low.x[4])+np.radians(ppp_rot_low.x[3]-shift)),np.pi))+shift,label='2-5.5 keV')\n",
    "    plt.plot(_ph,np.degrees(np.mod((angfunk(ppp_rot_high.x[1],ppp_rot_high.x[2],_ph-ppp_rot_high.x[4])+np.radians(ppp_rot_high.x[3]-shift)),np.pi))+shift,label='5.5-8 keV')\n",
    "else:\n",
    "    plt.plot(_ph,np.degrees(np.mod(np.pi/2+(angfunk(ppp_rot.x[1],ppp_rot.x[2],_ph-ppp_rot.x[4])+np.radians(ppp_rot.x[3]-shift)),np.pi))+shift)\n",
    "\n",
    "'''if ppp_rot2.x[0]>0:\n",
    "    plt.plot(_ph,np.degrees(np.mod((angfunk(ppp_rot2.x[1],ppp_rot2.x[2],_ph-ppp_rot2.x[4])+np.radians(ppp_rot2.x[3]-shift)),np.pi))+shift)\n",
    "else:\n",
    "    plt.plot(_ph,np.degrees(np.mod(np.pi/2+(angfunk(ppp_rot2.x[1],ppp_rot2.x[2],_ph-ppp_rot2.x[4])+np.radians(ppp_rot2.x[3]-shift)),np.pi))+shift)\n",
    "    '''\n",
    "#plt.ylim(25,75)\n",
    "plt.ylabel('Polarization Angle')\n",
    "plt.xlabel('Phase')\n",
    "plt.legend()\n",
    "plt.savefig('figures/polar-angle-energy.pdf')"
   ]
  },
  {
   "cell_type": "code",
   "execution_count": null,
   "id": "b290d6cc-0c93-4ffc-9de0-ca47f9b1ddec",
   "metadata": {},
   "outputs": [],
   "source": []
  },
  {
   "cell_type": "code",
   "execution_count": 70,
   "id": "625efc38-360a-4046-90bb-ebf6bd295e65",
   "metadata": {},
   "outputs": [],
   "source": [
    "from corner import corner\n",
    "import numpy as np"
   ]
  },
  {
   "cell_type": "code",
   "execution_count": 71,
   "id": "55a86087-774f-41e1-9733-4b753eba7644",
   "metadata": {},
   "outputs": [
    {
     "ename": "FileNotFoundError",
     "evalue": "minimum2M_RVM_v2.txt.gz not found.",
     "output_type": "error",
     "traceback": [
      "\u001b[0;31m---------------------------------------------------------------------------\u001b[0m",
      "\u001b[0;31mFileNotFoundError\u001b[0m                         Traceback (most recent call last)",
      "Input \u001b[0;32mIn [71]\u001b[0m, in \u001b[0;36m<cell line: 1>\u001b[0;34m()\u001b[0m\n\u001b[0;32m----> 1\u001b[0m ddd\u001b[38;5;241m=\u001b[39m\u001b[43mnp\u001b[49m\u001b[38;5;241;43m.\u001b[39;49m\u001b[43mloadtxt\u001b[49m\u001b[43m(\u001b[49m\u001b[38;5;124;43m'\u001b[39;49m\u001b[38;5;124;43mminimum2M_RVM_v2.txt.gz\u001b[39;49m\u001b[38;5;124;43m'\u001b[39;49m\u001b[43m)\u001b[49m\n",
      "File \u001b[0;32m~/miniconda3/envs/heasoft/lib/python3.8/site-packages/numpy/lib/npyio.py:1042\u001b[0m, in \u001b[0;36mloadtxt\u001b[0;34m(fname, dtype, comments, delimiter, converters, skiprows, usecols, unpack, ndmin, encoding, max_rows, like)\u001b[0m\n\u001b[1;32m   1040\u001b[0m     fname \u001b[38;5;241m=\u001b[39m os_fspath(fname)\n\u001b[1;32m   1041\u001b[0m \u001b[38;5;28;01mif\u001b[39;00m _is_string_like(fname):\n\u001b[0;32m-> 1042\u001b[0m     fh \u001b[38;5;241m=\u001b[39m \u001b[43mnp\u001b[49m\u001b[38;5;241;43m.\u001b[39;49m\u001b[43mlib\u001b[49m\u001b[38;5;241;43m.\u001b[39;49m\u001b[43m_datasource\u001b[49m\u001b[38;5;241;43m.\u001b[39;49m\u001b[43mopen\u001b[49m\u001b[43m(\u001b[49m\u001b[43mfname\u001b[49m\u001b[43m,\u001b[49m\u001b[43m \u001b[49m\u001b[38;5;124;43m'\u001b[39;49m\u001b[38;5;124;43mrt\u001b[39;49m\u001b[38;5;124;43m'\u001b[39;49m\u001b[43m,\u001b[49m\u001b[43m \u001b[49m\u001b[43mencoding\u001b[49m\u001b[38;5;241;43m=\u001b[39;49m\u001b[43mencoding\u001b[49m\u001b[43m)\u001b[49m\n\u001b[1;32m   1043\u001b[0m     fencoding \u001b[38;5;241m=\u001b[39m \u001b[38;5;28mgetattr\u001b[39m(fh, \u001b[38;5;124m'\u001b[39m\u001b[38;5;124mencoding\u001b[39m\u001b[38;5;124m'\u001b[39m, \u001b[38;5;124m'\u001b[39m\u001b[38;5;124mlatin1\u001b[39m\u001b[38;5;124m'\u001b[39m)\n\u001b[1;32m   1044\u001b[0m     line_iter \u001b[38;5;241m=\u001b[39m \u001b[38;5;28miter\u001b[39m(fh)\n",
      "File \u001b[0;32m~/miniconda3/envs/heasoft/lib/python3.8/site-packages/numpy/lib/_datasource.py:193\u001b[0m, in \u001b[0;36mopen\u001b[0;34m(path, mode, destpath, encoding, newline)\u001b[0m\n\u001b[1;32m    156\u001b[0m \u001b[38;5;124;03m\"\"\"\u001b[39;00m\n\u001b[1;32m    157\u001b[0m \u001b[38;5;124;03mOpen `path` with `mode` and return the file object.\u001b[39;00m\n\u001b[1;32m    158\u001b[0m \n\u001b[0;32m   (...)\u001b[0m\n\u001b[1;32m    189\u001b[0m \n\u001b[1;32m    190\u001b[0m \u001b[38;5;124;03m\"\"\"\u001b[39;00m\n\u001b[1;32m    192\u001b[0m ds \u001b[38;5;241m=\u001b[39m DataSource(destpath)\n\u001b[0;32m--> 193\u001b[0m \u001b[38;5;28;01mreturn\u001b[39;00m \u001b[43mds\u001b[49m\u001b[38;5;241;43m.\u001b[39;49m\u001b[43mopen\u001b[49m\u001b[43m(\u001b[49m\u001b[43mpath\u001b[49m\u001b[43m,\u001b[49m\u001b[43m \u001b[49m\u001b[43mmode\u001b[49m\u001b[43m,\u001b[49m\u001b[43m \u001b[49m\u001b[43mencoding\u001b[49m\u001b[38;5;241;43m=\u001b[39;49m\u001b[43mencoding\u001b[49m\u001b[43m,\u001b[49m\u001b[43m \u001b[49m\u001b[43mnewline\u001b[49m\u001b[38;5;241;43m=\u001b[39;49m\u001b[43mnewline\u001b[49m\u001b[43m)\u001b[49m\n",
      "File \u001b[0;32m~/miniconda3/envs/heasoft/lib/python3.8/site-packages/numpy/lib/_datasource.py:532\u001b[0m, in \u001b[0;36mDataSource.open\u001b[0;34m(self, path, mode, encoding, newline)\u001b[0m\n\u001b[1;32m    529\u001b[0m     \u001b[38;5;28;01mreturn\u001b[39;00m _file_openers[ext](found, mode\u001b[38;5;241m=\u001b[39mmode,\n\u001b[1;32m    530\u001b[0m                               encoding\u001b[38;5;241m=\u001b[39mencoding, newline\u001b[38;5;241m=\u001b[39mnewline)\n\u001b[1;32m    531\u001b[0m \u001b[38;5;28;01melse\u001b[39;00m:\n\u001b[0;32m--> 532\u001b[0m     \u001b[38;5;28;01mraise\u001b[39;00m \u001b[38;5;167;01mFileNotFoundError\u001b[39;00m(\u001b[38;5;124mf\u001b[39m\u001b[38;5;124m\"\u001b[39m\u001b[38;5;132;01m{\u001b[39;00mpath\u001b[38;5;132;01m}\u001b[39;00m\u001b[38;5;124m not found.\u001b[39m\u001b[38;5;124m\"\u001b[39m)\n",
      "\u001b[0;31mFileNotFoundError\u001b[0m: minimum2M_RVM_v2.txt.gz not found."
     ]
    }
   ],
   "source": [
    "ddd=np.loadtxt('minimum2M_RVM_v2.txt.gz')"
   ]
  },
  {
   "cell_type": "code",
   "execution_count": null,
   "id": "ec8fcc9a-25b6-462f-bc25-c4d97df7560c",
   "metadata": {
    "tags": []
   },
   "outputs": [],
   "source": [
    "c=corner(ddd[::100])"
   ]
  },
  {
   "cell_type": "code",
   "execution_count": null,
   "id": "24cf14f1-f7c9-42ce-87af-eb6b593f6e69",
   "metadata": {},
   "outputs": [],
   "source": [
    "dd4b=ddd\n",
    "nskip=100\n",
    "c=corner(dd4b[::nskip])"
   ]
  },
  {
   "cell_type": "code",
   "execution_count": null,
   "id": "555d9240-5c15-4ba4-ac7d-b085ad59ad85",
   "metadata": {},
   "outputs": [],
   "source": [
    "dd4b=ddd\n",
    "start=100000\n",
    "nskip=100\n",
    "c=corner(dd4b[start::nskip],weights=np.sin(np.radians(dd4b[start::nskip,1]))*np.sin(np.radians(dd4b[start::nskip,2])))"
   ]
  },
  {
   "cell_type": "code",
   "execution_count": null,
   "id": "ebb24667-7ee1-44bc-b225-07a3faac5b77",
   "metadata": {
    "tags": []
   },
   "outputs": [],
   "source": [
    "ddd=np.loadtxt('minimum2M_RVM_v2prior.txt.gz')"
   ]
  },
  {
   "cell_type": "code",
   "execution_count": null,
   "id": "2228d0a4-8b4d-45b0-862a-d8a5e34eea42",
   "metadata": {},
   "outputs": [],
   "source": [
    "start=100000\n",
    "dd4b=ddd\n",
    "c=corner(dd4b[start::nskip])"
   ]
  },
  {
   "cell_type": "code",
   "execution_count": null,
   "id": "79abc9b0-505d-489e-89a9-d624a27eb1f2",
   "metadata": {
    "tags": []
   },
   "outputs": [],
   "source": [
    "ddd=np.loadtxt('minimum2M_RVM_v2prior_2.txt.gz')"
   ]
  },
  {
   "cell_type": "code",
   "execution_count": null,
   "id": "44f20de5-4219-4308-b11b-6ec58ad2796a",
   "metadata": {},
   "outputs": [],
   "source": [
    "start=1000000\n",
    "dd4b=ddd\n",
    "c=corner(dd4b[start::nskip])"
   ]
  },
  {
   "cell_type": "code",
   "execution_count": null,
   "id": "fbf12a1a-bd7f-4ea8-9424-d98adbeecc7d",
   "metadata": {},
   "outputs": [],
   "source": [
    "start=100000\n",
    "fig=plt.figure(figsize=(10,10))\n",
    "dd4b=1*ddd\n",
    "dd4b[:,0]=np.tanh(dd4b[:,0])*100\n",
    "dd4b[:,4]=np.where(dd4b[:,4]<0.45,dd4b[:,4]+1,dd4b[:,4])*100\n",
    "c=corner(dd4b[start::nskip],labels=['Degree [%]',r'$i_p$',r'$\\theta$',r'$\\chi_p$',r'$\\phi_0$ [%]'],quantiles=[0.16,0.5,0.84],show_titles=True,title_fmt='.1f',fig=fig)\n",
    "fig.savefig('corner_epoch2.pdf')"
   ]
  },
  {
   "cell_type": "code",
   "execution_count": null,
   "id": "14a183a1-a3e8-45a3-a3ba-6961c17eb504",
   "metadata": {},
   "outputs": [],
   "source": [
    "medvalues2=np.median(ddd[start::nskip],axis=0)"
   ]
  },
  {
   "cell_type": "code",
   "execution_count": null,
   "id": "e940e78f-1b82-4bee-9bfe-2e3944fa28d8",
   "metadata": {},
   "outputs": [],
   "source": [
    "ddd1=np.loadtxt('minimum-HerX1_1.txt.gz')"
   ]
  },
  {
   "cell_type": "code",
   "execution_count": null,
   "id": "1a58b935-953b-4741-984c-67a3abab9434",
   "metadata": {},
   "outputs": [],
   "source": [
    "start=100000\n",
    "fig=plt.figure(figsize=(10,10))\n",
    "dd4b=1*ddd1\n",
    "dd4b[:,0]=np.tanh(dd4b[:,0])*100\n",
    "dd4b[:,4]*=100\n",
    "c=corner(dd4b[start::nskip],labels=['Degree [%]',r'$i_p$',r'$\\theta$',r'$\\chi_p$',r'$\\phi_0$ [%]'],quantiles=[0.16,0.5,0.84],show_titles=True,title_fmt='.1f',fig=fig)\n",
    "fig.savefig('corner_epoch1.pdf')"
   ]
  },
  {
   "cell_type": "code",
   "execution_count": null,
   "id": "c23462cd-9b08-436d-b753-b635120ce332",
   "metadata": {},
   "outputs": [],
   "source": [
    "medvalues1=np.median(ddd1[start::nskip],axis=0)"
   ]
  },
  {
   "cell_type": "code",
   "execution_count": null,
   "id": "146fd45b-6db2-4cf3-a26c-f6aade55ad65",
   "metadata": {},
   "outputs": [],
   "source": [
    "medvalues2"
   ]
  },
  {
   "cell_type": "code",
   "execution_count": null,
   "id": "38227949-4f31-4469-8a5c-cac713fc6251",
   "metadata": {},
   "outputs": [],
   "source": [
    "medvalues1"
   ]
  },
  {
   "cell_type": "code",
   "execution_count": null,
   "id": "337e4ba3-8ca5-4ff5-a95e-2974789c3acd",
   "metadata": {},
   "outputs": [],
   "source": [
    "MJDSTART,MJDSTART+deltat.max()/day"
   ]
  },
  {
   "cell_type": "code",
   "execution_count": null,
   "id": "9978d47f-fde3-4a69-a265-3a85552b2a61",
   "metadata": {},
   "outputs": [],
   "source": []
  },
  {
   "cell_type": "code",
   "execution_count": null,
   "id": "c342f793-c2bc-4148-8898-917cd19d25eb",
   "metadata": {},
   "outputs": [],
   "source": []
  }
 ],
 "metadata": {
  "kernelspec": {
   "display_name": "Python 3 (ipykernel)",
   "language": "python",
   "name": "python3"
  },
  "language_info": {
   "codemirror_mode": {
    "name": "ipython",
    "version": 3
   },
   "file_extension": ".py",
   "mimetype": "text/x-python",
   "name": "python",
   "nbconvert_exporter": "python",
   "pygments_lexer": "ipython3",
   "version": "3.8.12"
  }
 },
 "nbformat": 4,
 "nbformat_minor": 5
}
