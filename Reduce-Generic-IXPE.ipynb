{
 "cells": [
  {
   "cell_type": "markdown",
   "id": "cooked-captain",
   "metadata": {
    "tags": []
   },
   "source": [
    "# Load Packages"
   ]
  },
  {
   "cell_type": "code",
   "execution_count": 1,
   "id": "angry-negotiation",
   "metadata": {},
   "outputs": [],
   "source": [
    "import matplotlib.pyplot as plt\n",
    "import numpy as np\n",
    "from astropy.io import fits\n",
    "from scipy.optimize import curve_fit,minimize\n",
    "from glob import glob\n",
    "from scipy.interpolate import InterpolatedUnivariateSpline\n",
    "import re\n",
    "import os"
   ]
  },
  {
   "cell_type": "code",
   "execution_count": 2,
   "id": "552890a9-906d-4d43-82a9-01d6d4172a15",
   "metadata": {},
   "outputs": [],
   "source": [
    "doorbbary=True   # Barycentric correction of pulsar orbit\n",
    "dolocalbary=True # Barycentric correction of spacecraft orbit; requires HEASOFT barycorr\n",
    "if doorbbary:\n",
    "    SOURCENAME='herx1' # For GBM PSR data \n",
    "else:\n",
    "    NU=0.8079475 # guess for PSR frequency\n",
    "    NUDOT=0\n",
    "OBSID='02004001'\n",
    "MODF='FTP/caldb/data/ixpe/gpd/cpf/modfact/ixpe_d%d_20170101_mfact_02.fits'"
   ]
  },
  {
   "cell_type": "markdown",
   "id": "6304b002-24f4-44ad-9d3e-d345527be20f",
   "metadata": {},
   "source": [
    "# Setup  Directories"
   ]
  },
  {
   "cell_type": "code",
   "execution_count": 3,
   "id": "b7614795-2642-400b-9532-c1788d7efe88",
   "metadata": {},
   "outputs": [
    {
     "data": {
      "text/plain": [
       "0"
      ]
     },
     "execution_count": 3,
     "metadata": {},
     "output_type": "execute_result"
    }
   ],
   "source": [
    "os.system('[ -d output ] || mkdir output ; [ -d figures ] || mkdir figures ; [ -d data ] || mkdir data')"
   ]
  },
  {
   "cell_type": "markdown",
   "id": "6129d488-d36d-4801-9e00-7a92a8e546df",
   "metadata": {},
   "source": [
    "# Setup Data and Modulation Files in Data Directory"
   ]
  },
  {
   "cell_type": "code",
   "execution_count": 4,
   "id": "8fe00e0e-886b-4bdf-bb33-fdb96baee8f9",
   "metadata": {},
   "outputs": [],
   "source": [
    "DIRECTORY='FTP/ixpe/data/obs/%s//%s/' % (OBSID[0:2],OBSID)\n",
    "SCIHEADER='/home/idies/workspace/headata'"
   ]
  },
  {
   "cell_type": "markdown",
   "id": "c3dd06a7-c563-463d-8463-e913a69c004f",
   "metadata": {},
   "source": [
    "## Set up Raw Data Files"
   ]
  },
  {
   "cell_type": "code",
   "execution_count": 5,
   "id": "a40b4940-8c0c-45c4-bf09-80ae9b7968d3",
   "metadata": {},
   "outputs": [],
   "source": [
    "rawdatafilelist=sorted(glob('data/ixpe*_det?_evt2_*.fits*'))\n",
    "if len(rawdatafilelist)<3:\n",
    "    print('get data files')\n",
    "    # if you are on sciserver create symbolic links to the data, otherwise download the manifest and then files\n",
    "    if os.path.isdir('%s/%s/event_l2/' % (SCIHEADER,DIRECTORY)):\n",
    "        os.system('cd data ; for ii in %s/%s/event_l2/*.fits.gz ; do ln -s $ii ; done' % (SCIHEADER,DIRECTORY))\n",
    "    else:\n",
    "        os.system('cd data ; wget -nH -nv --cut-dirs=8 https://heasarc.gsfc.nasa.gov/%s/event_l2/' % DIRECTORY)\n",
    "        with open('data/index.html','r') as f:\n",
    "            for line in f:\n",
    "                res=re.search('href=\"ixpe.+fits\\.gz\"',line)\n",
    "                if res is not None:\n",
    "                    os.system('cd data  ; wget -nH -nv --cut-dirs=8 https://heasarc.gsfc.nasa.gov/%s/event_l2/%s' % (DIRECTORY,line[res.start()+6:res.end()-1]))\n",
    "        os.remove('data/index.html')\n",
    "    rawdatafilelist=sorted(glob('data/ixpe*_det?_evt2_*.fits*'))"
   ]
  },
  {
   "cell_type": "markdown",
   "id": "296fe295-de25-4990-afa4-5d428783ceeb",
   "metadata": {},
   "source": [
    "## Perform Spacecraft barycentering"
   ]
  },
  {
   "cell_type": "code",
   "execution_count": 6,
   "id": "73d32a98-f3e6-48eb-a532-526286033d34",
   "metadata": {},
   "outputs": [],
   "source": [
    "if dolocalbary:\n",
    "    orbfilelist=sorted(glob('data/ixpe*orb_*fits*'))\n",
    "    if len(orbfilelist)<1:\n",
    "        print('get orb files')\n",
    "        # if you are on sciserver create symbolic links to the data, otherwise download the manifest and then files\n",
    "        if os.path.isdir('%s/%s/hk/' % (SCIHEADER,DIRECTORY)):\n",
    "            os.system('cd data ; for ii in %s/%s/hk/*orb*.fits.gz ; do ln -s $ii ; done' % (SCIHEADER,DIRECTORY))\n",
    "        else:\n",
    "            os.system('cd data ; wget -nH -nv --cut-dirs=8 https://heasarc.gsfc.nasa.gov/%s/hk/' % DIRECTORY)\n",
    "            with open('data/index.html','r') as f:\n",
    "                for line in f:\n",
    "                    res=re.search('href=\"ixpe.+orb.+fits\\.gz\"',line)\n",
    "                    if res is not None:\n",
    "                        os.system('cd data  ; wget -nH -nv --cut-dirs=8 https://heasarc.gsfc.nasa.gov/%s/hk/%s' % (DIRECTORY,line[res.start()+6:res.end()-1]))\n",
    "            os.remove('data/index.html')\n",
    "    orbfilelist=sorted(glob('data/ixpe*orb_*fits*'))\n",
    "    datafilelist=sorted(glob('data/ixpe*_det?_evt2_*_bary.fits*'))\n",
    "    if len(datafilelist)<3:\n",
    "        print('perform barycentric correction')\n",
    "        for ff in rawdatafilelist:\n",
    "            os.system('HEADASNOQUERY= HEADASPROMPT=/dev/null barycorr %s %s %s' % (ff,ff.replace('.fits.gz','_bary.fits.gz'),','.join(orbfilelist)))\n",
    "    datafilelist=sorted(glob('data/ixpe*_det?_evt2_*_bary.fits*'))\n",
    "else:\n",
    "    datafilelist=rawdatafilelist\n",
    "#/home/idies/workspace/headata/FTP/caldb/data\n",
    "#https://heasarc.gsfc.nasa.gov/FTP/ixpe/data/obs/01//01001899/event_l2/ixpe01001899_det1_evt2_v02.fits.gz\n",
    "#https://heasarc.gsfc.nasa.gov/FTP/ixpe/data/obs/01//01001899/hk/\n",
    "#https://heasarc.gsfc.nasa.gov/FTP/ixpe/data/obs/02//02003801/event_l2/"
   ]
  },
  {
   "cell_type": "markdown",
   "id": "f0ef50f5-e062-451f-90c1-8296f7be7563",
   "metadata": {},
   "source": [
    "## Setup modulation files"
   ]
  },
  {
   "cell_type": "code",
   "execution_count": 7,
   "id": "a3fc821f-0b42-48bc-83d0-698d53a5cd78",
   "metadata": {},
   "outputs": [],
   "source": [
    "modfilelist=sorted(glob('data/ixpe*_mfact*.fits*'))\n",
    "if len(modfilelist)<3:\n",
    "    print('get modf files')\n",
    "    # if you are on sciserver create symbolic links to the data, otherwise download the files\n",
    "    if os.path.exists('%s/%s' % (SCIHEADER,MODF.replace('%d','1'))):\n",
    "        os.system('cd data ; for ii in %s/%s ; do ln -s $ii ; done' % (SCIHEADER,MODF.replace('%d','?')))\n",
    "    else:\n",
    "        for i in range(1,4):\n",
    "            os.system((('cd data ; wget -nH -nv --cut-dirs=8 https://heasarc.gsfc.nasa.gov/%s' % MODF)) % i)\n",
    "    modfilelist=sorted(glob('data/ixpe*_mfact*.fits*'))\n"
   ]
  },
  {
   "cell_type": "markdown",
   "id": "a4102a0b-d3ea-419b-8c22-cc977d8d1e7f",
   "metadata": {},
   "source": [
    "# Definition of RVM"
   ]
  },
  {
   "cell_type": "code",
   "execution_count": 8,
   "id": "documented-latin",
   "metadata": {},
   "outputs": [],
   "source": [
    "def angfunk(alpha,beta,phase):\n",
    "    tanhalfC=np.tan(phase*np.pi)\n",
    "    halfamb=np.radians(alpha-beta)/2\n",
    "    halfapb=np.radians(alpha+beta)/2\n",
    "    halfAmB=np.arctan2(np.sin(halfamb),np.sin(halfapb)*tanhalfC)\n",
    "    halfApB=np.arctan2(np.cos(halfamb),np.cos(halfapb)*tanhalfC)\n",
    "    return (halfAmB-halfApB)\n"
   ]
  },
  {
   "cell_type": "markdown",
   "id": "00e17cbb-07ab-4a7f-9f34-1e512fee0890",
   "metadata": {},
   "source": [
    "# Load Data and Modulation Fraction"
   ]
  },
  {
   "cell_type": "code",
   "execution_count": 9,
   "id": "collaborative-thriller",
   "metadata": {},
   "outputs": [
    {
     "name": "stdout",
     "output_type": "stream",
     "text": [
      "0 data/ixpe02004001_det1_evt2_v01_bary.fits.gz\n",
      "1 data/ixpe02004001_det2_evt2_v01_bary.fits.gz\n",
      "2 data/ixpe02004001_det3_evt2_v01_bary.fits.gz\n"
     ]
    }
   ],
   "source": [
    "nphotondu=np.zeros(4).astype(int)\n",
    "for i,f in enumerate(datafilelist): \n",
    "    print(i,f)\n",
    "    with fits.open(modfilelist[i]) as hdu:\n",
    "        modlist=hdu[1].data['SPECRESP']\n",
    "    with fits.open(f) as hdu:\n",
    "        # hdu[1].data['PI']=pislope[i]*hdu[1].data['PI']+pioffset[i]\n",
    "        if (i==0):\n",
    "            MJDREFI=hdu[0].header['MJDREFI']\n",
    "            MJDREFF=hdu[0].header['MJDREFF']\n",
    "            LIVETIME=hdu[0].header['LIVETIME']\n",
    "            evtlist=hdu[1].data\n",
    "            moddata=np.transpose(modlist[np.clip(hdu[1].data['PI']-25,0,len(modlist)-1)])\n",
    "            detector=np.full(len(hdu[1].data),i+1)\n",
    "        else:\n",
    "            evtlist=np.append(evtlist,hdu[1].data)\n",
    "            moddata=np.concatenate((moddata,np.transpose(modlist[np.clip(hdu[1].data['PI']-25,0,len(modlist)-1)])))\n",
    "            detector=np.concatenate((detector,np.full(len(hdu[1].data),i+1)))\n"
   ]
  },
  {
   "cell_type": "code",
   "execution_count": 10,
   "id": "transparent-papua",
   "metadata": {},
   "outputs": [
    {
     "name": "stdout",
     "output_type": "stream",
     "text": [
      "301.63663 286.92328\n",
      "301.67972 286.5232\n",
      "301.68073 286.51266\n",
      "301.68088 286.51227\n",
      "301.68088 286.51227\n"
     ]
    }
   ],
   "source": [
    "xc, yc=300, 300\n",
    "for _i in range(5):\n",
    "    rr=np.hypot(evtlist['X']-xc,evtlist['Y']-yc)\n",
    "    ok=(evtlist['PI']>49) & (evtlist['PI']<=200) & (rr<50) \n",
    "    xc,yc=np.mean(evtlist['X'][ok]),np.mean(evtlist['Y'][ok])\n",
    "    print(xc,yc)\n",
    "rr=np.hypot(evtlist['X']-xc,evtlist['Y']-yc)\n",
    "ok=(evtlist['PI']>49) & (evtlist['PI']<=200) & (rr<20) \n",
    "back=(evtlist['PI']>49) & (evtlist['PI']<=200) & (rr>30)  & (rr<50)\n",
    "evtback=evtlist[back]\n",
    "evtlist=evtlist[ok]\n",
    "modback=moddata[back]\n",
    "moddata=moddata[ok]\n",
    "detback=detector[back]\n",
    "detector=detector[ok]\n"
   ]
  },
  {
   "cell_type": "code",
   "execution_count": 11,
   "id": "premium-remedy",
   "metadata": {},
   "outputs": [
    {
     "data": {
      "image/png": "[encoded data removed]",
      "text/plain": [
       "<Figure size 432x288 with 1 Axes>"
      ]
     },
     "metadata": {
      "needs_background": "light"
     },
     "output_type": "display_data"
    },
    {
     "data": {
      "text/plain": [
       "[<matplotlib.lines.Line2D at 0x7f3303573a90>]"
      ]
     },
     "execution_count": 11,
     "metadata": {},
     "output_type": "execute_result"
    },
    {
     "data": {
      "image/png": "[encoded data removed]",
      "text/plain": [
       "<Figure size 432x288 with 1 Axes>"
      ]
     },
     "metadata": {
      "needs_background": "light"
     },
     "output_type": "display_data"
    }
   ],
   "source": [
    "plt.hist2d(evtlist['X'],evtlist['Y'],bins=100)\n",
    "plt.show()\n",
    "plt.plot(evtlist['X'],evtlist['Y'],',')\n",
    "plt.plot(evtback['X'],evtback['Y'],',')"
   ]
  },
  {
   "cell_type": "code",
   "execution_count": 12,
   "id": "2a3eeda4-3f50-446b-bb6d-f1091614f7a0",
   "metadata": {},
   "outputs": [
    {
     "data": {
      "text/plain": [
       "0.007906091241875133"
      ]
     },
     "execution_count": 12,
     "metadata": {},
     "output_type": "execute_result"
    }
   ],
   "source": [
    "len(evtback)/len(evtlist)/4"
   ]
  },
  {
   "cell_type": "code",
   "execution_count": 13,
   "id": "proof-mitchell",
   "metadata": {},
   "outputs": [],
   "source": [
    "pispec=np.histogram(evtlist['PI'],bins=150)[0]\n",
    "np.save('output/pispec',pispec)"
   ]
  },
  {
   "cell_type": "code",
   "execution_count": 14,
   "id": "sixth-saskatchewan",
   "metadata": {},
   "outputs": [],
   "source": [
    "backpispec=np.histogram(evtback['PI'],bins=150)[0]*20**2/(50**2-30**2)\n",
    "np.save('output/backpispec',backpispec)"
   ]
  },
  {
   "cell_type": "code",
   "execution_count": 15,
   "id": "minus-duplicate",
   "metadata": {},
   "outputs": [
    {
     "name": "stdout",
     "output_type": "stream",
     "text": [
      "1 -0.02140812673438465 0.0736804327826248 0.0767275313385643\n",
      "2 -0.0024519747801810448 0.08642464985447634 0.08645942564458477\n",
      "3 -0.01345737110357219 0.08338576005084894 0.08446470159940787\n"
     ]
    }
   ],
   "source": [
    "for i in range(1,4):\n",
    "    _q,_u=np.mean((evtlist['Q']/moddata)[detector==i]),np.mean((evtlist['U']/moddata)[detector==i])\n",
    "    print(i,_q,_u,np.hypot(_q,_u))"
   ]
  },
  {
   "cell_type": "markdown",
   "id": "71bd1464-1608-4413-ac29-63eb80b51a62",
   "metadata": {
    "tags": []
   },
   "source": [
    "# Barycentring with GBM Orbital Elements"
   ]
  },
  {
   "cell_type": "code",
   "execution_count": 16,
   "id": "43573827-28d2-4486-a989-17c564f5aa70",
   "metadata": {},
   "outputs": [],
   "source": [
    "\n",
    "if doorbbary:\n",
    "    os.system('[ -f %s.fits.gz ] || curl https://gammaray.nsstc.nasa.gov/gbm/science/pulsars/lightcurves/%s.fits.gz --output %s.fits.gz' % (SOURCENAME,SOURCENAME,SOURCENAME))\n",
    "    with fits.open('%s.fits.gz' % SOURCENAME)  as hdu:\n",
    "        orbitdata=hdu['Orbital Elements'].data\n",
    "        spindata=hdu['PSR_HIST'].data\n",
    "    day=3600*24\n",
    "    TPIOVER2O=orbitdata['BINARYEPOCH']-2400000.5\n",
    "    PORB=orbitdata['PBINARY']*day\n",
    "    PORBDOT=orbitdata['PBDOT']\n",
    "    ECCENTRICITY=orbitdata['ECCENTRICITY']\n",
    "    OMEGA=orbitdata['PERIAPSE']\n",
    "    ASINIOVERC=orbitdata['AXSINI']\n",
    "    NUORB=1/PORB\n",
    "    NUORBDOT=-1/PORB/PORB*PORBDOT\n",
    "    met0=evtlist['TIME'].min()\n",
    "    MJDSTART=MJDREFF+MJDREFI+met0/day\n",
    "    NU=np.interp(MJDSTART,spindata['BARYTIME'],spindata['FREQUENCY'])\n",
    "    NUDOT=np.interp(MJDSTART,spindata['BARYTIME'],spindata['FDOT'])\n",
    "    TREFNU=MJDSTART\n",
    "    torb=((MJDREFF+MJDREFI)+evtlist['TIME']/day-TPIOVER2O)*day\n",
    "    phaseorb=(0.25+torb*(NUORB+torb*NUORBDOT/2))                    \n",
    "    orbtime=ASINIOVERC*((np.sin(2*np.pi*phaseorb)-np.sin(np.pi/2))-\n",
    "                    0.5*ECCENTRICITY*(np.sin(4*np.pi*phaseorb-np.radians(OMEGA))-\n",
    "                                      np.sin(np.pi/2-np.radians(OMEGA))))\n",
    "    deltat=evtlist['TIME']-orbtime-met0\n",
    "    freqtst=NU\n",
    "    if NUDOT==0:\n",
    "        _ii=spindata['BARYTIME']>59000\n",
    "        nufunk=InterpolatedUnivariateSpline(spindata['BARYTIME'][_ii],spindata['FREQUENCY'][_ii],k=2)\n",
    "        nudd=nufunk.derivatives(MJDSTART)\n",
    "        NU=nudd[0]\n",
    "        NUDOT=nudd[1]/day\n",
    "        NUDDOT=nudd[2]/day/day\n",
    "    else:\n",
    "        NUDDOT=0\n",
    "\n",
    "else:\n",
    "    deltat=evtlist['TIME']-evtlist['TIME'].min()\n",
    "phdata=np.mod(deltat*(NU+0*0.5*deltat*(NUDOT*deltat*NUDDOT*0.3333333)),1)"
   ]
  },
  {
   "cell_type": "code",
   "execution_count": 17,
   "id": "ba7dd383-153b-4683-bda1-d8e7f7d21419",
   "metadata": {},
   "outputs": [
    {
     "data": {
      "text/plain": [
       "(59978.81988397932,\n",
       " 0.8079475039414423,\n",
       " 4.143139582617706e-15,\n",
       " 0.8079474850576043,\n",
       " 244566.410694)"
      ]
     },
     "execution_count": 17,
     "metadata": {},
     "output_type": "execute_result"
    }
   ],
   "source": [
    "MJDSTART,NU,NUDOT,freqtst,LIVETIME"
   ]
  },
  {
   "cell_type": "code",
   "execution_count": 18,
   "id": "ec620e0d-48de-4b67-97d4-53b26a24e1b3",
   "metadata": {},
   "outputs": [
    {
     "data": {
      "image/png": "[encoded data removed]",
      "text/plain": [
       "<Figure size 432x288 with 1 Axes>"
      ]
     },
     "metadata": {
      "needs_background": "light"
     },
     "output_type": "display_data"
    }
   ],
   "source": [
    "bindata=plt.hist2d(phdata,deltat,bins=100)"
   ]
  },
  {
   "cell_type": "code",
   "execution_count": 19,
   "id": "4cdee69b-174c-4c8e-b23b-7101a87e409b",
   "metadata": {},
   "outputs": [
    {
     "data": {
      "text/plain": [
       "(0.8079475039414423, 21.44425031542778)"
      ]
     },
     "execution_count": 19,
     "metadata": {},
     "output_type": "execute_result"
    }
   ],
   "source": [
    "NU,deltat.min()"
   ]
  },
  {
   "cell_type": "code",
   "execution_count": 20,
   "id": "5342d515-05cc-434c-bac4-0c02394f0a50",
   "metadata": {},
   "outputs": [
    {
     "name": "stdout",
     "output_type": "stream",
     "text": [
      "0.6686771538022659\n"
     ]
    },
    {
     "data": {
      "image/png": "[encoded data removed]",
      "text/plain": [
       "<Figure size 432x288 with 1 Axes>"
      ]
     },
     "metadata": {
      "needs_background": "light"
     },
     "output_type": "display_data"
    }
   ],
   "source": [
    "toton=plt.hist(phdata,bins=100)\n",
    "print((toton[0].max()-toton[0].min())/(toton[0].max()+toton[0].min()))"
   ]
  },
  {
   "cell_type": "code",
   "execution_count": 21,
   "id": "8b784660-7c37-4003-8557-178587ae4fba",
   "metadata": {},
   "outputs": [
    {
     "data": {
      "text/plain": [
       "28"
      ]
     },
     "execution_count": 21,
     "metadata": {},
     "output_type": "execute_result"
    }
   ],
   "source": [
    "np.argmax(toton[0])"
   ]
  },
  {
   "cell_type": "code",
   "execution_count": 22,
   "id": "715b184c-8160-410a-9667-75edd64dbbf0",
   "metadata": {},
   "outputs": [
    {
     "name": "stderr",
     "output_type": "stream",
     "text": [
      "/home/idies/miniconda3/envs/heasoft/lib/python3.8/site-packages/numpy/lib/npyio.py:713: VisibleDeprecationWarning: Creating an ndarray from ragged nested sequences (which is a list-or-tuple of lists-or-tuples-or ndarrays with different lengths or shapes) is deprecated. If you meant to do this, you must specify 'dtype=object' when creating the ndarray.\n",
      "  val = np.asanyarray(val)\n"
     ]
    }
   ],
   "source": [
    "np.savez('output/toton',toton,dtype=object)"
   ]
  },
  {
   "cell_type": "markdown",
   "id": "interested-passport",
   "metadata": {
    "tags": []
   },
   "source": [
    "# Unbinned Likelihood Analysis"
   ]
  },
  {
   "cell_type": "code",
   "execution_count": 23,
   "id": "resistant-governor",
   "metadata": {},
   "outputs": [],
   "source": [
    "qdata=evtlist['Q']*moddata\n",
    "udata=evtlist['U']*moddata\n",
    "\n",
    "def maxlikephase(param):\n",
    "    for _i in range(len(param)//2):\n",
    "        qloc[_i]=np.cos(2*param[2*_i])*np.tanh(param[2*_i+1])\n",
    "        uloc[_i]=np.sin(2*param[2*_i])*np.tanh(param[2*_i+1])\n",
    "#        qloc[_i]=param[2*_i]\n",
    "#        uloc[_i]=param[2*_i+1]\n",
    "\n",
    "    return(-np.sum(np.log(1+0.5*(qloc[phbin]*qdata+uloc[phbin]*udata))))\n",
    "\n",
    "def maxlikephaseok(param,_phb,_qd,_ud):\n",
    "    for _i in range(len(param)//2):\n",
    "        qloc[_i]=np.cos(2*param[2*_i])*np.tanh(param[2*_i+1])\n",
    "        uloc[_i]=np.sin(2*param[2*_i])*np.tanh(param[2*_i+1])\n",
    "#        qloc[_i]=param[2*_i]\n",
    "#        uloc[_i]=param[2*_i+1]\n",
    "\n",
    "    return(-np.sum(np.log(1+0.5*(qloc[_phb]*_qd+uloc[_phb]*_ud))))\n",
    "\n",
    "\n",
    "def maxlikephasequ(param):\n",
    "    for _i in range(len(param)//2):\n",
    "        qloc[_i]=np.tanh(param[2*_i])\n",
    "        uloc[_i]=np.tanh(param[2*_i+1])\n",
    "#        qloc[_i]=param[2*_i]\n",
    "#        uloc[_i]=param[2*_i+1]\n",
    "\n",
    "    return(-np.sum(np.log(1+0.5*(qloc[phbin]*qdata+uloc[phbin]*udata))))\n",
    "\n",
    "def maxlikefixed(param):\n",
    "    qloc=param[0]\n",
    "    uloc=param[1]\n",
    "    norm=np.hypot(qloc,uloc)\n",
    "    if norm>1:\n",
    "        qloc/=norm\n",
    "        uloc/=norm\n",
    "    \n",
    "    return(-np.sum(np.log(1+0.5*(qloc*qdata+uloc*udata))))\n",
    "\n",
    "def maxlikerotation(param):\n",
    "    ang=angfunk(param[1],param[2],phdata-param[4])+np.radians(param[3])\n",
    "    qloc=np.cos(2*ang)*np.tanh(param[0])\n",
    "    uloc=np.sin(2*ang)*np.tanh(param[0])\n",
    "    if (len(param)>5):\n",
    "        qloc+=np.tanh(param[5])\n",
    "        uloc+=np.tanh(param[6])\n",
    "    _res=-np.sum(np.log(1+0.5*(qloc*qdata+uloc*udata)))\n",
    "    # print(_res,param)\n",
    "    return _res\n",
    "def maxlikerotation_rand(param):\n",
    "    ang=angfunk(param[1],param[2],phdata-param[4])+np.radians(param[3])\n",
    "    qloc=np.cos(2*ang)*np.tanh(param[0])\n",
    "    uloc=np.sin(2*ang)*np.tanh(param[0])\n",
    "    if (len(param)>5):\n",
    "        qloc+=np.tanh(param[5])\n",
    "        uloc+=np.tanh(param[6])\n",
    "    return(-np.sum(np.log(1+0.5*(qloc*qrand+uloc*urand))))\n",
    "def maxlikerotation2(param):\n",
    "    ang=angfunk(param[1],param[2],phdata-param[4])+np.radians(param[3])\n",
    "    qloc=np.cos(2*ang)\n",
    "    uloc=np.sin(2*ang)\n",
    "    polfrac=np.tanh(param[0])\n",
    "    if (len(param)>5):\n",
    "        polfrac*=(1+param[5]*np.cos(2*np.pi*(phdata-param[6])))\n",
    "    qloc*=polfrac\n",
    "    uloc*=polfrac\n",
    "    if (len(param)>7):\n",
    "        qloc+=np.tanh(param[7])\n",
    "        uloc+=np.tanh(param[8])        \n",
    "    return(-np.sum(np.log(1+0.5*(qloc*qdata+uloc*udata))))\n",
    "def maxlikerotation2_ok(param,_phd,_qd,_ud):\n",
    "    ang=angfunk(param[1],param[2],_phd-param[4])+np.radians(param[3])\n",
    "    qloc=np.cos(2*ang)\n",
    "    uloc=np.sin(2*ang)\n",
    "    polfrac=np.tanh(param[0])\n",
    "    if (len(param)>5):\n",
    "        polfrac*=(1+param[5]*np.cos(2*np.pi*(_phd-param[6])))\n",
    "    qloc*=polfrac\n",
    "    uloc*=polfrac\n",
    "    if (len(param)>7):\n",
    "        qloc+=np.tanh(param[7])\n",
    "        uloc+=np.tanh(param[8]) \n",
    "    return(-np.sum(np.log(1+0.5*(qloc*_qd+uloc*_ud))))\n",
    "def maxlikerotation2frac(param):\n",
    "    ang=angfunk(param[1],param[2],phdata-param[4])+np.radians(param[3]+param[4]*tdata)\n",
    "    qloc=np.cos(2*ang)\n",
    "    uloc=np.sin(2*ang)\n",
    "    polfrac=np.tanh(param[0])\n",
    "    if (len(param)>5):\n",
    "        polfrac*=(1+param[5]*np.cos(2*np.pi*(phdata-param[6])))\n",
    "    qloc*=polfrac\n",
    "    uloc*=polfrac\n",
    "    if (len(param)>7):\n",
    "        qloc+=np.tanh(param[7])\n",
    "        uloc+=np.tanh(param[8])        \n",
    "    return(-np.sum(np.log(1+0.5*(qloc*qdata+uloc*udata))))"
   ]
  },
  {
   "cell_type": "code",
   "execution_count": 24,
   "id": "massive-joseph",
   "metadata": {
    "tags": []
   },
   "outputs": [],
   "source": [
    "np.savetxt('output/photondata.txt',[phdata,qdata,udata])"
   ]
  },
  {
   "cell_type": "code",
   "execution_count": 25,
   "id": "temporal-adventure",
   "metadata": {},
   "outputs": [
    {
     "data": {
      "text/plain": [
       " final_simplex: (array([[-0.00800552,  0.08049365],\n",
       "       [-0.00793784,  0.08048935],\n",
       "       [-0.00795446,  0.08043259]]), array([-153.55928255, -153.559238  , -153.55922261]))\n",
       "           fun: -153.55928255076324\n",
       "       message: 'Optimization terminated successfully.'\n",
       "          nfev: 74\n",
       "           nit: 39\n",
       "        status: 0\n",
       "       success: True\n",
       "             x: array([-0.00800552,  0.08049365])"
      ]
     },
     "execution_count": 25,
     "metadata": {},
     "output_type": "execute_result"
    }
   ],
   "source": [
    "ppp_fixed=minimize(maxlikefixed,np.random.normal(size=2)*np.array([0.3,0.3]),method='Nelder-Mead')\n",
    "ppp_fixed"
   ]
  },
  {
   "cell_type": "code",
   "execution_count": 26,
   "id": "bound-colon",
   "metadata": {},
   "outputs": [
    {
     "data": {
      "text/plain": [
       " final_simplex: (array([[ 9.44709758e-02, -3.77613153e-02, -1.49366449e-02,\n",
       "        -1.33725530e+02, -1.54901793e+00],\n",
       "       [ 9.44683730e-02, -3.90429298e-02, -1.54440673e-02,\n",
       "        -1.33726005e+02, -1.54902454e+00],\n",
       "       [ 9.44669200e-02, -4.04092414e-02, -1.59842672e-02,\n",
       "        -1.33725532e+02, -1.54901630e+00],\n",
       "       [ 9.44685216e-02, -4.05732210e-02, -1.60497095e-02,\n",
       "        -1.33725875e+02, -1.54902079e+00],\n",
       "       [ 9.44679527e-02, -4.33447702e-02, -1.71456188e-02,\n",
       "        -1.33725673e+02, -1.54902298e+00],\n",
       "       [ 9.44685873e-02, -4.12380320e-02, -1.63120736e-02,\n",
       "        -1.33726146e+02, -1.54902059e+00]]), array([-208.46474104, -208.46474103, -208.46474089, -208.46474088,\n",
       "       -208.46474085, -208.46474084]))\n",
       "           fun: -208.46474103930012\n",
       "       message: 'Maximum number of function evaluations has been exceeded.'\n",
       "          nfev: 1000\n",
       "           nit: 625\n",
       "        status: 1\n",
       "       success: False\n",
       "             x: array([ 9.44709758e-02, -3.77613153e-02, -1.49366449e-02, -1.33725530e+02,\n",
       "       -1.54901793e+00])"
      ]
     },
     "execution_count": 26,
     "metadata": {},
     "output_type": "execute_result"
    }
   ],
   "source": [
    "ppp_rot=minimize(maxlikerotation2,np.random.normal(size=5)*np.array([np.hypot(ppp_fixed.x[0],ppp_fixed.x[1]),50,50,90,1]),method='Nelder-Mead')\n",
    "if (ppp_rot.x[0]<0):\n",
    "    ppp_rot.x[0]*=-1\n",
    "    ppp_rot.x[3]+=90\n",
    "ppp_rot"
   ]
  },
  {
   "cell_type": "code",
   "execution_count": 27,
   "id": "proud-prior",
   "metadata": {},
   "outputs": [
    {
     "data": {
      "text/plain": [
       " final_simplex: (array([[ 1.06480205e-01, -4.29700507e-02, -1.48942228e-02,\n",
       "        -1.33950441e+02, -1.53612007e+00,  4.19322494e-01,\n",
       "        -1.68557407e-01],\n",
       "       [ 1.06480282e-01, -4.29700679e-02, -1.48941838e-02,\n",
       "        -1.33950383e+02, -1.53612000e+00,  4.19322795e-01,\n",
       "        -1.68558019e-01],\n",
       "       [ 1.06480209e-01, -4.29701284e-02, -1.48941663e-02,\n",
       "        -1.33950445e+02, -1.53612077e+00,  4.19323059e-01,\n",
       "        -1.68557783e-01],\n",
       "       [ 1.06480265e-01, -4.29700954e-02, -1.48941734e-02,\n",
       "        -1.33950496e+02, -1.53612039e+00,  4.19324423e-01,\n",
       "        -1.68558408e-01],\n",
       "       [ 1.06480393e-01, -4.29700213e-02, -1.48941285e-02,\n",
       "        -1.33950394e+02, -1.53612034e+00,  4.19324575e-01,\n",
       "        -1.68557165e-01],\n",
       "       [ 1.06480352e-01, -4.29700086e-02, -1.48942176e-02,\n",
       "        -1.33950392e+02, -1.53612105e+00,  4.19323828e-01,\n",
       "        -1.68557979e-01],\n",
       "       [ 1.06480520e-01, -4.29700829e-02, -1.48941897e-02,\n",
       "        -1.33950469e+02, -1.53612061e+00,  4.19321562e-01,\n",
       "        -1.68557675e-01],\n",
       "       [ 1.06480292e-01, -4.29697752e-02, -1.48941165e-02,\n",
       "        -1.33950488e+02, -1.53612074e+00,  4.19327172e-01,\n",
       "        -1.68556835e-01]]), array([-230.61675113, -230.61675113, -230.61675113, -230.61675113,\n",
       "       -230.61675113, -230.61675113, -230.61675113, -230.61675113]))\n",
       "           fun: -230.61675113124932\n",
       "       message: 'Optimization terminated successfully.'\n",
       "          nfev: 561\n",
       "           nit: 345\n",
       "        status: 0\n",
       "       success: True\n",
       "             x: array([ 1.06480205e-01, -4.29700507e-02, -1.48942228e-02, -1.33950441e+02,\n",
       "       -1.53612007e+00,  4.19322494e-01, -1.68557407e-01])"
      ]
     },
     "execution_count": 27,
     "metadata": {},
     "output_type": "execute_result"
    }
   ],
   "source": [
    "ppp_rot2=minimize(maxlikerotation2,np.concatenate((ppp_rot.x,np.random.normal(size=2))),method='Nelder-Mead')\n",
    "ppp_rot2"
   ]
  },
  {
   "cell_type": "code",
   "execution_count": 28,
   "id": "divine-kelly",
   "metadata": {},
   "outputs": [
    {
     "data": {
      "text/plain": [
       " final_simplex: (array([[ 9.44683560e-02, -4.18684393e-02, -1.65613382e-02,\n",
       "        -1.33725357e+02, -1.54902260e+00],\n",
       "       [ 9.44685401e-02, -4.18681799e-02, -1.65614048e-02,\n",
       "        -1.33725423e+02, -1.54902312e+00],\n",
       "       [ 9.44685632e-02, -4.18682609e-02, -1.65613675e-02,\n",
       "        -1.33725445e+02, -1.54902261e+00],\n",
       "       [ 9.44682137e-02, -4.18683261e-02, -1.65614359e-02,\n",
       "        -1.33725404e+02, -1.54902254e+00],\n",
       "       [ 9.44683376e-02, -4.18682129e-02, -1.65612782e-02,\n",
       "        -1.33725392e+02, -1.54902115e+00],\n",
       "       [ 9.44679953e-02, -4.18684339e-02, -1.65613788e-02,\n",
       "        -1.33725366e+02, -1.54902248e+00]]), array([-208.46474099, -208.46474099, -208.46474099, -208.46474099,\n",
       "       -208.46474099, -208.46474099]))\n",
       "           fun: -208.46474099131513\n",
       "       message: 'Optimization terminated successfully.'\n",
       "          nfev: 189\n",
       "           nit: 104\n",
       "        status: 0\n",
       "       success: True\n",
       "             x: array([ 9.44683560e-02, -4.18684393e-02, -1.65613382e-02, -1.33725357e+02,\n",
       "       -1.54902260e+00])"
      ]
     },
     "execution_count": 28,
     "metadata": {},
     "output_type": "execute_result"
    }
   ],
   "source": [
    "ppp_rot=minimize(maxlikerotation2,ppp_rot2.x[0:-2],method='Nelder-Mead')\n",
    "ppp_rot"
   ]
  },
  {
   "cell_type": "markdown",
   "id": "african-voluntary",
   "metadata": {
    "tags": []
   },
   "source": [
    "# Binned Analysis"
   ]
  },
  {
   "cell_type": "code",
   "execution_count": 29,
   "id": "arctic-memphis",
   "metadata": {},
   "outputs": [],
   "source": [
    "qloc=np.zeros(14)\n",
    "uloc=np.zeros(14)\n",
    "phbin=(phdata//(1/14.0)).astype(int)\n",
    "ppp_phase=minimize(maxlikephase,np.random.uniform(size=28))\n",
    "ppp_phase_err=np.diag(ppp_phase.hess_inv)**0.5  \n",
    "tt=np.histogram(phdata,bins=14)[0]\n",
    "phlist=np.linspace(1./28,27./28,14)\n"
   ]
  },
  {
   "cell_type": "code",
   "execution_count": 30,
   "id": "surface-adelaide",
   "metadata": {},
   "outputs": [],
   "source": [
    "ppp_phasequ=minimize(maxlikephasequ,np.random.uniform(size=28))\n",
    "ppp_phasequ_err=np.diag(ppp_phasequ.hess_inv)**.5"
   ]
  },
  {
   "cell_type": "code",
   "execution_count": 31,
   "id": "ebb9d8fb-a608-485e-a633-18ee195861e1",
   "metadata": {},
   "outputs": [
    {
     "data": {
      "text/plain": [
       "(array([0.03571429, 0.10714286, 0.17857143, 0.25      , 0.32142857,\n",
       "        0.39285714, 0.46428571, 0.53571429, 0.60714286, 0.67857143,\n",
       "        0.75      , 0.82142857, 0.89285714, 0.96428571]),\n",
       " 28,\n",
       " 28,\n",
       " 14)"
      ]
     },
     "execution_count": 31,
     "metadata": {},
     "output_type": "execute_result"
    }
   ],
   "source": [
    "phlist,len(ppp_phasequ.x),len(np.diag(ppp_phasequ.hess_inv)),len(tt-0)"
   ]
  },
  {
   "cell_type": "code",
   "execution_count": 32,
   "id": "distant-announcement",
   "metadata": {},
   "outputs": [
    {
     "name": "stdout",
     "output_type": "stream",
     "text": [
      "#    Phase        Q/I       EQ/I        U/I       EU/I     Counts\n",
      " 0.0357143  0.0428778  0.0205473   0.186143  0.0213772      50474 \n",
      "  0.107143 0.00464067  0.0209698  0.0981155  0.0204109      52516 \n",
      "  0.178571 -0.0261179   0.016329  0.0377245  0.0159812      88713 \n",
      "      0.25 -0.0817189  0.0124544 0.00711005    0.01337     137108 \n",
      "  0.321429 -0.0669715  0.0131076  0.0582348  0.0129167     130033 \n",
      "  0.392857 -0.0195726  0.0160935   0.084321  0.0143627      97009 \n",
      "  0.464286  0.0106664  0.0175752  0.0569486  0.0156542     101232 \n",
      "  0.535714  0.0259964  0.0181125  0.0462874  0.0187823      62833 \n",
      "  0.607143  0.0944383  0.0273639   0.139734  0.0255099      29923 \n",
      "  0.678571  0.0542189  0.0244731   0.107398  0.0246466      36556 \n",
      "      0.75  0.0776928  0.0223456   0.127444  0.0222653      48800 \n",
      "  0.821429  0.0139313   0.022976   0.164831  0.0216684      48891 \n",
      "  0.892857  0.0185637  0.0207594   0.128696  0.0207479      51126 \n",
      "  0.964286  0.0127976  0.0200154    0.13525  0.0195772      50956 \n"
     ]
    }
   ],
   "source": [
    "tt=np.histogram(phdata,bins=14)[0]\n",
    "phlist=np.linspace(1./28,27./28,14)\n",
    "with open('output/QU_phase.dat','w') as f:\n",
    "    print('#    Phase        Q/I       EQ/I        U/I       EU/I     Counts')\n",
    "    f.write('#    Phase        Q/I       EQ/I        U/I       EU/I     Counts\\n')\n",
    "\n",
    "    for r in zip(phlist,np.tanh(ppp_phasequ.x[::2]),np.diag(ppp_phasequ.hess_inv)[::2]**0.5/np.cosh(ppp_phasequ.x[::2])**2,\n",
    "                 np.tanh(ppp_phasequ.x[1::2]),np.diag(ppp_phasequ.hess_inv)[1::2]**0.5/np.cosh(ppp_phasequ.x[1::2])**2,tt):\n",
    "        print(('%10g '*6) % r)\n",
    "        f.write((('%10g '*6) % r)+'\\n')"
   ]
  },
  {
   "cell_type": "code",
   "execution_count": 33,
   "id": "suburban-geography",
   "metadata": {},
   "outputs": [
    {
     "name": "stdout",
     "output_type": "stream",
     "text": [
      "#    Phase         PD        EPD         PA        EPA     Counts\n",
      " 0.0357143   0.191017  0.0209484    38.5141     3.3566      50474 \n",
      "  0.107143  0.0982251  0.0198804     43.646    10.6486      52516 \n",
      "  0.178571  0.0458834  0.0155114     62.348    13.7882      88713 \n",
      "      0.25  0.0820276  0.0130134    87.5137    3.50334     137108 \n",
      "  0.321429  0.0887495  0.0128376    69.4958    4.54815     130033 \n",
      "  0.392857  0.0865628  0.0144624     51.534    4.78293      97009 \n",
      "  0.464286  0.0579389  0.0155428    39.6958    4.07438     101232 \n",
      "  0.535714   0.053088  0.0252015    30.3401    4.37934      62833 \n",
      "  0.607143   0.168654  0.0325911    27.9737     9.4833      29923 \n",
      "  0.678571   0.120308  0.0238998    31.6068    3.59178      36556 \n",
      "      0.75   0.149259  0.0210001    29.3163    6.17261      48800 \n",
      "  0.821429   0.165418  0.0278412    42.5844    3.15033      48891 \n",
      "  0.892857   0.130028  0.0203621     40.896    9.25027      51126 \n",
      "  0.964286   0.135854  0.0208199    42.2973     3.1185      50956 \n"
     ]
    }
   ],
   "source": [
    "with open('output/pol_phase.dat','w') as f:\n",
    "    print('#    Phase         PD        EPD         PA        EPA     Counts')\n",
    "    f.write('#    Phase         PD        EPD         PA        EPA     Counts\\n')\n",
    "    for r in zip((np.arange(len(ppp_phase.x)//2)+0.5)/(len(ppp_phase.x)//2),np.abs(np.tanh(ppp_phase.x[1::2])),ppp_phase_err[1::2]/np.cosh(ppp_phase.x[1::2])**2,np.mod(np.degrees(np.where(ppp_phase.x[1::2]>0,0,np.pi*0.5)+ppp_phase.x[::2]),180),\n",
    "        np.degrees(ppp_phase_err[::2]),tt):\n",
    "        print('%10g '*6 %r)\n",
    "        f.write(('%10g '*6 %r)+'\\n')\n",
    "        "
   ]
  },
  {
   "cell_type": "code",
   "execution_count": 34,
   "id": "powerful-language",
   "metadata": {},
   "outputs": [
    {
     "data": {
      "text/plain": [
       "Text(0, 0.5, 'U/I')"
      ]
     },
     "execution_count": 34,
     "metadata": {},
     "output_type": "execute_result"
    },
    {
     "data": {
      "image/png": "[encoded data removed]",
      "text/plain": [
       "<Figure size 432x288 with 1 Axes>"
      ]
     },
     "metadata": {
      "needs_background": "light"
     },
     "output_type": "display_data"
    }
   ],
   "source": [
    "#plt.figure(figsize=(6,4))\n",
    "plt.gca().set_aspect('equal')\n",
    "plt.errorbar(np.tanh(ppp_phasequ.x[::2]),np.tanh(ppp_phasequ.x[1::2]),yerr=np.diag(ppp_phasequ.hess_inv)[1::2]**0.5/np.cosh(ppp_phasequ.x[1::2])**2,xerr=np.diag(ppp_phasequ.hess_inv)[::2]**0.5/np.cosh(ppp_phasequ.x[::2])**2,fmt='.')\n",
    "for _xx,_yy,_tt in zip(np.tanh(ppp_phasequ.x[::2]),np.tanh(ppp_phasequ.x[1::2]),np.linspace(0.05,0.95,10)):\n",
    "    plt.text(_xx-3e-2,_yy+1e-2,'%.2f' % _tt)\n",
    "plt.xlabel('Q/I')\n",
    "plt.ylabel('U/I')"
   ]
  },
  {
   "cell_type": "code",
   "execution_count": 35,
   "id": "figured-writing",
   "metadata": {},
   "outputs": [
    {
     "data": {
      "image/png": "[encoded data removed]",
      "text/plain": [
       "<Figure size 432x288 with 1 Axes>"
      ]
     },
     "metadata": {
      "needs_background": "light"
     },
     "output_type": "display_data"
    }
   ],
   "source": [
    "#plt.figure(figsize=(7,4))\n",
    "plt.gca().set_aspect('equal')\n",
    "plt.errorbar(np.tanh(ppp_phasequ.x[::2])*tt,np.tanh(ppp_phasequ.x[1::2])*tt,yerr=tt*np.diag(ppp_phasequ.hess_inv)[1::2]**0.5/np.cosh(ppp_phasequ.x[1::2])**2,xerr=tt*np.diag(ppp_phasequ.hess_inv)[::2]**0.5/np.cosh(ppp_phasequ.x[::2])**2,fmt='.')\n",
    "for _xx,_yy,_tt,_qq in zip(np.tanh(ppp_phasequ.x[::2])*tt,np.tanh(ppp_phasequ.x[1::2])*tt,phlist,tt):\n",
    "    plt.text(_xx-3e+1,_yy+1e+1,'%.2f' % (_tt))\n",
    "param=ppp_rot2.x\n",
    "ang=angfunk(param[1],param[2],phlist-param[4])+np.radians(param[3])\n",
    "polfrac=np.tanh(param[0])\n",
    "if (len(param)>5):\n",
    "    polfrac*=(1+param[5]*np.cos(2*np.pi*(phlist-param[6])))\n",
    "\n",
    "qloc=np.cos(2*ang)*polfrac*60000\n",
    "uloc=np.sin(2*ang)*polfrac*60000\n",
    "#plt.plot(qloc,uloc)  \n",
    "#plt.xlim(-18000,5000)\n",
    "#plt.ylim(0,12000)\n",
    "#plt.ylim(-0.1,0.3)\n",
    "plt.xlabel('Q [Counts]')\n",
    "plt.ylabel('U [Counts]')\n",
    "plt.tight_layout()\n",
    "plt.savefig('figures/QU.pdf')"
   ]
  },
  {
   "cell_type": "markdown",
   "id": "southeast-warrior",
   "metadata": {
    "tags": []
   },
   "source": [
    "# Plots"
   ]
  },
  {
   "cell_type": "code",
   "execution_count": 36,
   "id": "blank-permit",
   "metadata": {},
   "outputs": [],
   "source": [
    "def plottwo(x,y,yerr=None,fmt=None,ax=None,**kwargs):\n",
    "    _x=np.concatenate((x,x+1))\n",
    "    _y=np.concatenate((y,y))\n",
    "    if fmt is None:\n",
    "        fmt='.'\n",
    "    if ax is None:\n",
    "        if yerr is None:\n",
    "            plt.plot(_x,_y,xerr=(_x[1]-_x[0])/2,fmt=fmt,**kwargs)\n",
    "        else:\n",
    "            _yerr=np.concatenate((yerr,yerr))\n",
    "            plt.errorbar(_x,_y,xerr=(_x[1]-_x[0])/2,yerr=_yerr,fmt=fmt,**kwargs)\n",
    "    else:\n",
    "        if yerr is None:\n",
    "            ax.plot(_x,_y,xerr=(_x[1]-_x[0])/2,fmt=fmt,**kwargs)\n",
    "        else:\n",
    "            _yerr=np.concatenate((yerr,yerr))\n",
    "            ax.errorbar(_x,_y,xerr=(_x[1]-_x[0])/2,yerr=_yerr,fmt=fmt,**kwargs)\n",
    "\n"
   ]
  },
  {
   "cell_type": "code",
   "execution_count": 37,
   "id": "black-laugh",
   "metadata": {},
   "outputs": [],
   "source": [
    "def cfunk(p,a,b,c):\n",
    "    return(a*np.cos((p-b)*2*np.pi)+c)\n",
    "\n",
    "cfit=curve_fit(cfunk,0.5*toton[1][:-1]+0.5*toton[1][1:],toton[0],sigma=(toton[0])**0.5)\n",
    "pfit=curve_fit(cfunk,(np.arange(len(ppp_phase.x)//2)+0.5)/10,100*np.abs(np.tanh(ppp_phase.x[1::2])),sigma=100*ppp_phase_err[1::2]/np.cosh(ppp_phase.x[1::2])**2)"
   ]
  },
  {
   "cell_type": "code",
   "execution_count": 38,
   "id": "multiple-value",
   "metadata": {},
   "outputs": [
    {
     "name": "stdout",
     "output_type": "stream",
     "text": [
      "0.6686771538022659\n"
     ]
    },
    {
     "data": {
      "image/png": "[encoded data removed]",
      "text/plain": [
       "<Figure size 432x288 with 1 Axes>"
      ]
     },
     "metadata": {
      "needs_background": "light"
     },
     "output_type": "display_data"
    }
   ],
   "source": [
    "toton=plt.hist(phdata,bins=100)\n",
    "print((toton[0].max()-toton[0].min())/(toton[0].max()+toton[0].min()))"
   ]
  },
  {
   "cell_type": "code",
   "execution_count": 39,
   "id": "imperial-evolution",
   "metadata": {},
   "outputs": [
    {
     "name": "stdout",
     "output_type": "stream",
     "text": [
      "0.6686771538022659 0.5040216248236846\n"
     ]
    },
    {
     "data": {
      "image/png": "[encoded data removed]",
      "text/plain": [
       "<Figure size 432x288 with 1 Axes>"
      ]
     },
     "metadata": {
      "needs_background": "light"
     },
     "output_type": "display_data"
    }
   ],
   "source": [
    "\n",
    "_ph=np.linspace(0,2,201)\n",
    "plottwo(0.5*toton[1][:-1]+0.5*toton[1][1:],toton[0],(toton[0])**0.5,'.')\n",
    "#plt.plot(_ph,cfunk(_ph,*cfit[0]))\n",
    "plt.ylabel('Counts')\n",
    "plt.xlabel('Phase')\n",
    "print((toton[0].max()-toton[0].min())/(toton[0].max()+toton[0].min()),cfit[0][0]/cfit[0][2])\n",
    "plt.savefig('figures/intensity.pdf')"
   ]
  },
  {
   "cell_type": "code",
   "execution_count": 40,
   "id": "indian-induction",
   "metadata": {},
   "outputs": [
    {
     "name": "stdout",
     "output_type": "stream",
     "text": [
      "0.11235812308505995 0.007941361731190177\n"
     ]
    },
    {
     "data": {
      "image/png": "[encoded data removed]",
      "text/plain": [
       "<Figure size 432x288 with 1 Axes>"
      ]
     },
     "metadata": {
      "needs_background": "light"
     },
     "output_type": "display_data"
    }
   ],
   "source": [
    "plottwo((np.arange(len(ppp_phase.x)//2)+0.5)/(len(ppp_phase.x)//2),np.abs(np.tanh(ppp_phase.x[1::2])),ppp_phase_err[1::2]/np.cosh(ppp_phase.x[1::2])**2,'.')\n",
    "#plt.plot(_ph,cfunk(_ph,*pfit[0])/100)\n",
    "#plt.plot(_ph,np.abs(ppp_rot2.x[0]*(1+ppp_rot2.x[5]*np.cos(2*np.pi*(_ph-ppp_rot2.x[6])))))\n",
    "plt.ylabel('Polarization Degree')\n",
    "plt.xlabel('Phase')\n",
    "plt.savefig('figures/polar-deg.pdf')\n",
    "print(np.mean(np.abs(np.tanh(ppp_phase.x[1::2]))),np.sum((ppp_phase_err[1::2]/np.cosh(ppp_phase.x[1::2]))**2)**0.5/10)"
   ]
  },
  {
   "cell_type": "code",
   "execution_count": 41,
   "id": "raised-bulgaria",
   "metadata": {},
   "outputs": [
    {
     "name": "stdout",
     "output_type": "stream",
     "text": [
      "\n",
      "Alpha:                      179.957\n",
      "Beta:                       -0.0148942\n",
      "Mean Polarization Fraction: 0.10608\n",
      "Ampl Polarization Fraction: 0.0444816\n",
      "Peak Polarization Fraction: 0.831443\n",
      "Pole across Line of Sight:  0.96388\n",
      "Peak Flux:                  0.28505\n",
      "\n",
      "\n",
      "Alpha:                      179.958\n",
      "Beta:                       -0.0165613\n",
      "Mean Polarization Fraction: 0.0941883\n",
      "Pole across Line of Sight:  0.950977\n",
      "Peak Flux:                  0.28505\n",
      "\n"
     ]
    },
    {
     "data": {
      "image/png": "[encoded data removed]",
      "text/plain": [
       "<Figure size 432x288 with 1 Axes>"
      ]
     },
     "metadata": {
      "needs_background": "light"
     },
     "output_type": "display_data"
    }
   ],
   "source": [
    "shift=0\n",
    "\n",
    "\n",
    "plottwo((np.arange(len(ppp_phase.x)//2)+0.5)/(len(ppp_phase.x)//2),np.mod(np.degrees(np.where(ppp_phase.x[1::2]>0,0,np.pi*0.5)+ppp_phase.x[::2])-shift,180)+shift,np.degrees(ppp_phase_err[::2]),c='tab:orange')\n",
    "_ph=np.linspace(0,2,401)\n",
    "print('''\n",
    "Alpha:                      %g\n",
    "Beta:                       %g\n",
    "Mean Polarization Fraction: %g\n",
    "Ampl Polarization Fraction: %g\n",
    "Peak Polarization Fraction: %g\n",
    "Pole across Line of Sight:  %g\n",
    "Peak Flux:                  %g\n",
    "''' % ((ppp_rot2.x[1]%180,ppp_rot2.x[2])+tuple(np.mod(np.array([np.abs(np.tanh(ppp_rot2.x[0])),np.abs(ppp_rot2.x[5]*np.tanh(ppp_rot2.x[0])),\n",
    "                                                            ppp_rot2.x[6],\n",
    "                                                            ppp_rot2.x[4]+(0 if ppp_rot2.x[2]>0 else 0.5),\n",
    "                                                            (cfit[0][1] if cfit[0][0]>0 else cfit[0][1]-0.5)]),1))))\n",
    "print('''\n",
    "Alpha:                      %g\n",
    "Beta:                       %g\n",
    "Mean Polarization Fraction: %g\n",
    "Pole across Line of Sight:  %g\n",
    "Peak Flux:                  %g\n",
    "''' % (ppp_rot.x[1]%180,ppp_rot.x[2],np.abs(np.tanh(ppp_rot.x[0])),np.mod(ppp_rot.x[4]+(0 if ppp_rot.x[2]>0 else 0.5),1),\n",
    "                                                            np.mod(cfit[0][1] if cfit[0][0]>0 else cfit[0][1]-0.5,1)))\n",
    "if ppp_rot.x[0]>0:\n",
    "    plt.plot(_ph,np.degrees(np.mod((angfunk(ppp_rot.x[1],ppp_rot.x[2],_ph-ppp_rot.x[4])+np.radians(ppp_rot.x[3]-shift)),np.pi))+shift,label='Constant PD')\n",
    "else:\n",
    "    plt.plot(_ph,np.degrees(np.mod(np.pi/2+(angfunk(ppp_rot.x[1],ppp_rot.x[2],_ph-ppp_rot.x[4])+np.radians(ppp_rot.x[3]-shift)),np.pi))+shift,label='Constant PD')\n",
    "\n",
    "if ppp_rot2.x[0]>0:\n",
    "    plt.plot(_ph,np.degrees(np.mod((angfunk(ppp_rot2.x[1],ppp_rot2.x[2],_ph-ppp_rot2.x[4])+np.radians(ppp_rot2.x[3]-shift)),np.pi))+shift,label='Variable PD')\n",
    "else:\n",
    "    plt.plot(_ph,np.degrees(np.mod(np.pi/2+(angfunk(ppp_rot2.x[1],ppp_rot2.x[2],_ph-ppp_rot2.x[4])+np.radians(ppp_rot2.x[3]-shift)),np.pi))+shift,label='Variable PD')\n",
    "\n",
    "#plt.plot(_ph,np.degrees(np.mod((angfunk(medvalues1[1],medvalues1[2],_ph-medvalues1[4])+np.radians(medvalues1[3]-shift)),np.pi))+shift,c='tab:blue',label='MCMC1')\n",
    "#plt.plot(_ph,np.degrees(np.mod((angfunk(medvalues2[1],medvalues2[2],_ph-medvalues2[4])+np.radians(medvalues2[3]-shift)),np.pi))+shift,c='tab:orange',label='MCMC2')\n",
    "\n",
    "#plt.plot(_ph,np.degrees(np.mod((angfunk(60.8,16.8,_ph-0.272)+np.radians(45.2-shift)),np.pi))+shift,label='MCMC')\n",
    "    \n",
    "#plt.ylim(25,75)\n",
    "plt.ylabel('Polarization Angle')\n",
    "plt.xlabel('Phase')\n",
    "plt.legend()\n",
    "plt.savefig('figures/polar-angle.pdf')"
   ]
  },
  {
   "cell_type": "code",
   "execution_count": 42,
   "id": "ab12b5a0-f7b8-4b61-9ca4-7a85cae1923d",
   "metadata": {},
   "outputs": [
    {
     "data": {
      "image/png": "[encoded data removed]",
      "text/plain": [
       "<Figure size 432x864 with 3 Axes>"
      ]
     },
     "metadata": {
      "needs_background": "light"
     },
     "output_type": "display_data"
    }
   ],
   "source": [
    "shift=0\n",
    "\n",
    "fig, (ax1, ax2, ax3) = plt.subplots(3, 1,sharex=True,figsize=(6,12))\n",
    "_ph=np.linspace(0,2,201)\n",
    "plottwo(0.5*toton[1][:-1]+0.5*toton[1][1:],toton[0],(toton[0])**0.5,'.',ax1)\n",
    "ax1.set_ylabel('Counts')\n",
    "plottwo((np.arange(len(ppp_phase.x)//2)+0.5)/(len(ppp_phase.x)//2),np.abs(np.tanh(ppp_phase.x[1::2])),ppp_phase_err[1::2]/np.cosh(ppp_phase.x[1::2])**2,'.',ax2)\n",
    "ax2.plot(_ph,np.abs(ppp_rot2.x[0]*(1+ppp_rot2.x[5]*np.cos(2*np.pi*(_ph-ppp_rot2.x[6])))),c='tab:green')\n",
    "ax2.set_ylabel('Polarization Degree')\n",
    "plottwo((np.arange(len(ppp_phase.x)//2)+0.5)/(len(ppp_phase.x)//2),np.mod(np.degrees(np.where(ppp_phase.x[1::2]>0,0,np.pi*0.5)+ppp_phase.x[::2])-shift,180)+shift,np.degrees(ppp_phase_err[::2]),'.',ax3)\n",
    "ax3.plot(_ph,np.degrees(np.mod((angfunk(ppp_rot.x[1],ppp_rot.x[2],_ph-ppp_rot.x[4])+np.radians(ppp_rot.x[3]-shift)),np.pi))+shift)\n",
    "\n",
    "\n",
    "ax3.set_ylabel('Polarization Angle')\n",
    "plt.xlabel('Phase')\n",
    "plt.subplots_adjust(wspace=0, hspace=0)\n",
    "\n",
    "plt.savefig('figures/triple.pdf')"
   ]
  },
  {
   "cell_type": "markdown",
   "id": "unsigned-recommendation",
   "metadata": {},
   "source": [
    "# Energy Dependence"
   ]
  },
  {
   "cell_type": "code",
   "execution_count": 43,
   "id": "indoor-hunger",
   "metadata": {},
   "outputs": [],
   "source": [
    "pibin=np.clip(((evtlist['PI']-50)//25).astype(int),0,4)\n",
    "def maxlikeenergy(param):\n",
    "    return(-np.sum(np.log(1+0.5*(np.tanh(param[2*pibin])*qrot+np.tanh(param[2*pibin+1])*urot))))\n",
    "def maxlikeenergy2(param):\n",
    "    return(-np.sum(np.log(1+0.5*(np.tanh(param[pibin])*qrot))))\n"
   ]
  },
  {
   "cell_type": "code",
   "execution_count": 44,
   "id": "complimentary-inside",
   "metadata": {},
   "outputs": [
    {
     "name": "stdout",
     "output_type": "stream",
     "text": [
      "0.0020060404956114644 0.09584386956135163 0.09586486077267008 0.005793704833153907 0.004842637267803286\n"
     ]
    }
   ],
   "source": [
    "angdata=angfunk( ppp_rot.x[1],  ppp_rot.x[2], phdata-ppp_rot.x[4])+np.radians(ppp_rot.x[3])\n",
    "\n",
    "sangdata=np.sin(2*angdata)\n",
    "cangdata=np.cos(2*angdata)\n",
    "urot=evtlist['U']*cangdata-evtlist['Q']*sangdata\n",
    "qrot=evtlist['U']*sangdata+evtlist['Q']*cangdata\n",
    "um,qm=np.mean(urot/moddata),np.mean(qrot/moddata)\n",
    "print(um,qm,np.hypot(um,qm),np.std(qrot/moddata)/len(qrot)**0.5,np.std(qrot)/np.mean(moddata)/len(qrot)**0.5)\n",
    "urot*=moddata\n",
    "qrot*=moddata"
   ]
  },
  {
   "cell_type": "code",
   "execution_count": 45,
   "id": "covered-medication",
   "metadata": {},
   "outputs": [],
   "source": [
    "ppp_spec_deg=minimize(maxlikeenergy2,np.random.uniform(size=5)-0.5)"
   ]
  },
  {
   "cell_type": "code",
   "execution_count": 46,
   "id": "worse-xerox",
   "metadata": {},
   "outputs": [],
   "source": [
    "ppp_spec_qu=minimize(maxlikeenergy,np.random.uniform(size=10)-0.5)"
   ]
  },
  {
   "cell_type": "code",
   "execution_count": 47,
   "id": "champion-narrow",
   "metadata": {},
   "outputs": [
    {
     "data": {
      "text/plain": [
       "Text(0, 0.5, 'U/I')"
      ]
     },
     "execution_count": 47,
     "metadata": {},
     "output_type": "execute_result"
    },
    {
     "data": {
      "image/png": "[encoded data removed]",
      "text/plain": [
       "<Figure size 432x432 with 1 Axes>"
      ]
     },
     "metadata": {
      "needs_background": "light"
     },
     "output_type": "display_data"
    }
   ],
   "source": [
    "plt.figure(figsize=(6,6))\n",
    "plt.errorbar(np.tanh(ppp_spec_qu.x[::2]),np.tanh(ppp_spec_qu.x[1::2]),yerr=np.diag(ppp_spec_qu.hess_inv)[1::2]**0.5/np.cosh(ppp_spec_qu.x[1::2])**2,xerr=np.diag(ppp_spec_qu.hess_inv)[::2]**0.5/np.cosh(ppp_spec_qu.x[::2])**2,fmt='.')\n",
    "for _xx,_yy,_tt in zip(np.tanh(ppp_spec_qu.x[::2]),np.tanh(ppp_spec_qu.x[1::2]),['2.5-3','3-4','4-5','5-6','6-8']):\n",
    "    plt.text(_xx-3e-2,_yy+1e-2,_tt)\n",
    "#plt.xlim(-0.29,0.29)\n",
    "#plt.ylim(-0.29,0.29)\n",
    "plt.xlabel('Q/I')\n",
    "plt.ylabel('U/I')"
   ]
  },
  {
   "cell_type": "code",
   "execution_count": 48,
   "id": "american-korea",
   "metadata": {},
   "outputs": [
    {
     "data": {
      "text/plain": [
       "Text(0, 0.5, 'Q/I')"
      ]
     },
     "execution_count": 48,
     "metadata": {},
     "output_type": "execute_result"
    },
    {
     "data": {
      "image/png": "[encoded data removed]",
      "text/plain": [
       "<Figure size 432x432 with 1 Axes>"
      ]
     },
     "metadata": {
      "needs_background": "light"
     },
     "output_type": "display_data"
    }
   ],
   "source": [
    "plt.figure(figsize=(6,6))\n",
    "_xxx=[2.5,3.5,4.5,5.5,7]\n",
    "plt.errorbar(_xxx,np.tanh(ppp_spec_deg.x),yerr=np.diag(ppp_spec_deg.hess_inv)**0.5/np.cosh(ppp_spec_deg.x)**2,fmt='.')\n",
    "plt.xlabel('Energy [keV]')\n",
    "plt.ylabel('Q/I')"
   ]
  },
  {
   "cell_type": "markdown",
   "id": "adaptive-deputy",
   "metadata": {
    "tags": []
   },
   "source": [
    "# Bin optimization"
   ]
  },
  {
   "cell_type": "code",
   "execution_count": 49,
   "id": "superb-jumping",
   "metadata": {},
   "outputs": [],
   "source": [
    "_ii=np.argsort(evtlist['PI'])\n",
    "pisort=evtlist['PI'][_ii]\n",
    "modsort=moddata[_ii]"
   ]
  },
  {
   "cell_type": "code",
   "execution_count": 50,
   "id": "subtle-sharing",
   "metadata": {},
   "outputs": [],
   "source": [
    "modcum=np.cumsum(modsort)\n",
    "def mdpfunk(imin,imax):\n",
    "    return(4.29/((modcum[imax]-modcum[imin])/(imax-imin))/(imax-imin)**0.5)\n",
    "def mdppi(pimin,pimax):\n",
    "    _imin=np.interp(pimin,pisort,range(len(pisort))).astype(int)\n",
    "    _imax=np.interp(pimax,pisort,range(len(pisort))).astype(int)\n",
    "\n",
    "    return mdpfunk(_imin,_imax)"
   ]
  },
  {
   "cell_type": "code",
   "execution_count": 51,
   "id": "removed-brown",
   "metadata": {},
   "outputs": [],
   "source": [
    "modscum=np.cumsum(modsort**2)"
   ]
  },
  {
   "cell_type": "code",
   "execution_count": 52,
   "id": "wrong-theory",
   "metadata": {},
   "outputs": [
    {
     "data": {
      "text/plain": [
       "array([     0,  65619, 117275, 160490, 197808, 231182, 261210, 288645,\n",
       "       314123, 337919, 360262, 381389, 401399, 420424, 438612, 456104,\n",
       "       472904, 489094, 504783, 519978, 534720, 549037, 562927, 576410,\n",
       "       589574, 602391, 614955, 627265, 639289, 651150, 662736, 674082,\n",
       "       685187, 696119, 706926, 717485, 727882, 738139, 748183, 758111,\n",
       "       767851, 777528, 786953, 796322, 805499, 814602, 823543, 832316,\n",
       "       840995, 849524, 857827, 866130, 874246, 882171, 890025, 897606,\n",
       "       905130, 912403, 919576, 926550, 933315, 939928, 946351, 952576,\n",
       "       958605, 964449, 970115, 975629, 980979, 986169])"
      ]
     },
     "execution_count": 52,
     "metadata": {},
     "output_type": "execute_result"
    }
   ],
   "source": [
    "plist=np.interp(np.linspace(0,1,70),modscum/modscum[-1],np.arange(len(modcum))).astype(int)\n",
    "plist"
   ]
  },
  {
   "cell_type": "code",
   "execution_count": 53,
   "id": "allied-gibraltar",
   "metadata": {},
   "outputs": [],
   "source": [
    "for ii in range(len(plist)-1):\n",
    "    _imin=plist[ii]\n",
    "    _imax=plist[ii+1]\n",
    "    _pmin,_pmax=pisort[_imin],pisort[_imax]\n",
    "    # print(ii,_pmin,_pmax,_pmin/25,_pmax/25,mdpfunk(plist[ii],plist[ii+1]))"
   ]
  },
  {
   "cell_type": "code",
   "execution_count": 54,
   "id": "anticipated-surge",
   "metadata": {},
   "outputs": [],
   "source": [
    "pilist=np.concatenate((pisort[plist[0:65:5]],pisort[plist[65:]]))\n",
    "elist=pilist/25"
   ]
  },
  {
   "cell_type": "code",
   "execution_count": 55,
   "id": "packed-novelty",
   "metadata": {},
   "outputs": [
    {
     "data": {
      "text/plain": [
       "(0, 17)"
      ]
     },
     "execution_count": 55,
     "metadata": {},
     "output_type": "execute_result"
    }
   ],
   "source": [
    "pibin=np.digitize(evtlist['PI'],pilist)-1\n",
    "pibin.min(),pibin.max()"
   ]
  },
  {
   "cell_type": "code",
   "execution_count": 56,
   "id": "revised-tension",
   "metadata": {},
   "outputs": [],
   "source": [
    "ppp_spec_deg=minimize(maxlikeenergy2,np.random.uniform(size=pibin.max()+1)-0.5)"
   ]
  },
  {
   "cell_type": "code",
   "execution_count": 57,
   "id": "afraid-danger",
   "metadata": {},
   "outputs": [],
   "source": [
    "ppp_spec_qu=minimize(maxlikeenergy,np.random.uniform(size=2*pibin.max()+2)-0.5)"
   ]
  },
  {
   "cell_type": "code",
   "execution_count": 58,
   "id": "appreciated-belly",
   "metadata": {},
   "outputs": [
    {
     "data": {
      "image/png": "[encoded data removed]",
      "text/plain": [
       "<Figure size 504x432 with 1 Axes>"
      ]
     },
     "metadata": {
      "needs_background": "light"
     },
     "output_type": "display_data"
    }
   ],
   "source": [
    "plt.figure(figsize=(7,6))\n",
    "plt.errorbar(np.tanh(ppp_spec_qu.x[::2]),np.tanh(ppp_spec_qu.x[1::2]),yerr=np.diag(ppp_spec_qu.hess_inv)[1::2]**0.5/np.cosh(ppp_spec_qu.x[1::2])**2,xerr=np.diag(ppp_spec_qu.hess_inv)[::2]**0.5/np.cosh(ppp_spec_qu.x[::2])**2,fmt='.')\n",
    "for _xx,_yy,_e0,_e1 in zip(np.tanh(ppp_spec_qu.x[::2]),np.tanh(ppp_spec_qu.x[1::2]),elist[:-1],elist[1:]):\n",
    "    plt.text(_xx-3e-2,_yy+1e-2,'%.1f-%.1f' % (_e0,_e1))\n",
    "#plt.xlim(-0.4,0.3)\n",
    "#plt.ylim(-0.3,0.3)\n",
    "plt.xlabel('Q/I')\n",
    "plt.ylabel('U/I')\n",
    "plt.savefig('figures/QU-energy_v1.pdf')"
   ]
  },
  {
   "cell_type": "code",
   "execution_count": 59,
   "id": "copyrighted-scenario",
   "metadata": {},
   "outputs": [
    {
     "data": {
      "image/png": "[encoded data removed]",
      "text/plain": [
       "<Figure size 432x432 with 1 Axes>"
      ]
     },
     "metadata": {
      "needs_background": "light"
     },
     "output_type": "display_data"
    }
   ],
   "source": [
    "plt.figure(figsize=(6,6))\n",
    "\n",
    "plt.errorbar(0.5*(elist[:-1]+elist[1:]),np.tanh(ppp_spec_deg.x)[:-1],\n",
    "             yerr=(np.diag(ppp_spec_deg.hess_inv)**0.5/np.cosh(ppp_spec_deg.x)**2)[:-1],\n",
    "             xerr=0.5*(-elist[:-1]+elist[1:]),fmt='.')\n",
    "plt.xlim(2,8)\n",
    "\n",
    "plt.xlabel('Energy [keV]')\n",
    "plt.ylabel('Q/I')\n",
    "plt.savefig('figures/polar-energy.pdf')\n",
    "np.save('output/qoveri',[0.5*(elist[:-1]+elist[1:]),np.tanh(ppp_spec_deg.x)[:-1],\n",
    "             (np.diag(ppp_spec_deg.hess_inv)**0.5/np.cosh(ppp_spec_deg.x)**2)[:-1],\n",
    "             0.5*(-elist[:-1]+elist[1:])])"
   ]
  },
  {
   "cell_type": "code",
   "execution_count": 60,
   "id": "prospective-funeral",
   "metadata": {},
   "outputs": [
    {
     "name": "stdout",
     "output_type": "stream",
     "text": [
      "#     Emid        Q/I       EQ/I   DeltaE/2\n",
      "      2.18    0.11089  0.0175013       0.18 \n",
      "      2.46   0.119648  0.0229664        0.1 \n",
      "      2.66  0.0677209  0.0180133        0.1 \n",
      "      2.86   0.053727  0.0168314        0.1 \n",
      "      3.06  0.0871951  0.0225665        0.1 \n",
      "      3.26  0.0675895  0.0174285        0.1 \n",
      "      3.48  0.0947418  0.0188528       0.12 \n",
      "      3.72  0.0830283   0.019801       0.12 \n",
      "         4  0.0959807  0.0185043       0.16 \n",
      "      4.34   0.119446  0.0176444       0.18 \n",
      "      4.76   0.107369  0.0167885       0.24 \n",
      "       5.3  0.0836069  0.0185973        0.3 \n",
      "      6.02   0.134283  0.0238329       0.42 \n",
      "      6.56   0.115942  0.0365134       0.12 \n",
      "       6.8  0.0712052   0.110471       0.12 \n",
      "       7.1   0.105707  0.0468743       0.18 \n",
      "      7.64  0.0922356  0.0496681       0.36 \n"
     ]
    }
   ],
   "source": [
    "with open('output/poldeg_energy.dat','w') as f:\n",
    "    print('#     Emid        Q/I       EQ/I   DeltaE/2')\n",
    "    f.write('#     Emid        Q/I       EQ/I   DeltaE/2\\n')\n",
    "\n",
    "    for r in zip(0.5*(elist[:-1]+elist[1:]),np.tanh(ppp_spec_deg.x)[:-1],\n",
    "                 (np.diag(ppp_spec_deg.hess_inv)**0.5/np.cosh(ppp_spec_deg.x)**2)[:-1],\n",
    "                 0.5*(-elist[:-1]+elist[1:])):\n",
    "        print(('%10g '*4) % r)\n",
    "        f.write((('%10g '*4) % r)+'\\n')"
   ]
  },
  {
   "cell_type": "code",
   "execution_count": 61,
   "id": "included-transportation",
   "metadata": {},
   "outputs": [
    {
     "name": "stdout",
     "output_type": "stream",
     "text": [
      "#    Emid         Q/I       EQ/I        U/I       EU/I   DeltaE/2\n",
      "      2.18   0.110869  0.0172425  0.0130767  0.0305407       0.18 \n",
      "      2.46   0.119621  0.0240529 0.00964676  0.0252596        0.1 \n",
      "      2.66  0.0677126  0.0184015 -0.00630817  0.0265069        0.1 \n",
      "      2.86  0.0537287  0.0174096 0.00589821  0.0170906        0.1 \n",
      "      3.06  0.0871913  0.0161769 0.00088447  0.0193299        0.1 \n",
      "      3.26  0.0675844  0.0185848 -0.0021946  0.0194568        0.1 \n",
      "      3.48  0.0947421  0.0174105 -0.00118454  0.0178734       0.12 \n",
      "      3.72  0.0831774  0.0172639 -0.0281121  0.0194774       0.12 \n",
      "         4  0.0959645  0.0190012  0.0142667  0.0188117       0.16 \n",
      "      4.34   0.119446  0.0174952  0.0108495    0.01983       0.18 \n",
      "      4.76   0.107436  0.0164565  0.0224453  0.0172896       0.24 \n",
      "       5.3  0.0835892  0.0223554 -0.0323856   0.016486        0.3 \n",
      "      6.02   0.134262  0.0180437 -0.00878858  0.0263735       0.42 \n",
      "      6.56   0.116144  0.0433009  -0.027627  0.0971115       0.12 \n",
      "       6.8  0.0706441   0.110571  0.0614161   0.080427       0.12 \n",
      "       7.1   0.106313  0.0910925 -0.0558499  0.0371839       0.18 \n",
      "      7.64  0.0923352  0.0561874  0.0302785  0.0436872       0.36 \n"
     ]
    }
   ],
   "source": [
    "with open('output/QU_energy.dat','w') as f:\n",
    "    print('#    Emid         Q/I       EQ/I        U/I       EU/I   DeltaE/2')\n",
    "    f.write('#    Emid         Q/I       EQ/I        U/I       EU/I   DeltaE/2\\n')\n",
    "\n",
    "    for r in zip(0.5*(elist[:-1]+elist[1:]),np.tanh(ppp_spec_qu.x[::2]),np.diag(ppp_spec_qu.hess_inv)[::2]**0.5/np.cosh(ppp_spec_qu.x[::2])**2,\n",
    "                 np.tanh(ppp_spec_qu.x[1::2]),np.diag(ppp_spec_qu.hess_inv)[1::2]**0.5/np.cosh(ppp_spec_qu.x[1::2])**2,\n",
    "                0.5*(-elist[:-1]+elist[1:])):\n",
    "        print(('%10g '*6) % r)\n",
    "        f.write((('%10g '*6) % r)+'\\n')"
   ]
  },
  {
   "cell_type": "code",
   "execution_count": 62,
   "id": "operating-harassment",
   "metadata": {},
   "outputs": [
    {
     "data": {
      "image/png": "[encoded data removed]",
      "text/plain": [
       "<Figure size 432x288 with 1 Axes>"
      ]
     },
     "metadata": {
      "needs_background": "light"
     },
     "output_type": "display_data"
    }
   ],
   "source": [
    "plt.errorbar(0.5*(elist[:-1]+elist[1:]),np.tanh(ppp_spec_qu.x)[:-2:2],\n",
    "             yerr=(np.diag(ppp_spec_qu.hess_inv)**0.5/np.cosh(ppp_spec_qu.x)**2)[:-2:2],\n",
    "             xerr=0.5*(-elist[:-1]+elist[1:]),fmt='.',label=r'$Q/I$')\n",
    "plt.errorbar(0.5*(elist[:-1]+elist[1:]),np.tanh(ppp_spec_qu.x)[1:-1:2],\n",
    "             yerr=(np.diag(ppp_spec_qu.hess_inv)**0.5/np.cosh(ppp_spec_qu.x)**2)[1:-1:2],\n",
    "             xerr=0.5*(-elist[:-1]+elist[1:]),fmt='.',label=r'$U/I$')\n",
    "plt.legend()\n",
    "plt.xlabel('Energy [keV]')\n",
    "plt.ylabel(r'$Q/I, U/I$')\n",
    "plt.savefig('figures/QU-energy_v2.pdf')"
   ]
  }
 ],
 "metadata": {
  "kernelspec": {
   "display_name": "Python 3 (ipykernel)",
   "language": "python",
   "name": "python3"
  },
  "language_info": {
   "codemirror_mode": {
    "name": "ipython",
    "version": 3
   },
   "file_extension": ".py",
   "mimetype": "text/x-python",
   "name": "python",
   "nbconvert_exporter": "python",
   "pygments_lexer": "ipython3",
   "version": "3.8.12"
  }
 },
 "nbformat": 4,
 "nbformat_minor": 5
}
